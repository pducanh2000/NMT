{
  "nbformat": 4,
  "nbformat_minor": 0,
  "metadata": {
    "colab": {
      "name": "Machine_Translation.ipynb",
      "provenance": [],
      "toc_visible": true
    },
    "kernelspec": {
      "name": "python3",
      "display_name": "Python 3"
    },
    "language_info": {
      "name": "python"
    },
    "accelerator": "GPU",
    "gpuClass": "standard"
  },
  "cells": [
    {
      "cell_type": "markdown",
      "source": [
        "# Import packages"
      ],
      "metadata": {
        "id": "IAJHhCA34y60"
      }
    },
    {
      "cell_type": "code",
      "source": [
        "# !pip install -q torchdata==0.3.0 torchtext==0.12 spacy==3.2 altair GPUtil\n",
        "!pip install -q torchdata torchtext spacy altair GPUtil\n",
        "!python -m spacy download de_core_news_sm\n",
        "!python -m spacy download en_core_web_sm"
      ],
      "metadata": {
        "id": "lIhP0LVy46hh",
        "colab": {
          "base_uri": "https://localhost:8080/"
        },
        "outputId": "e690e9c6-2420-4551-93aa-81f463aedf35"
      },
      "execution_count": 1,
      "outputs": [
        {
          "output_type": "stream",
          "name": "stdout",
          "text": [
            "\u001b[K     |████████████████████████████████| 4.4 MB 5.3 MB/s \n",
            "\u001b[K     |████████████████████████████████| 139 kB 57.3 MB/s \n",
            "\u001b[K     |████████████████████████████████| 127 kB 59.9 MB/s \n",
            "\u001b[?25h  Building wheel for GPUtil (setup.py) ... \u001b[?25l\u001b[?25hdone\n",
            "Looking in indexes: https://pypi.org/simple, https://us-python.pkg.dev/colab-wheels/public/simple/\n",
            "Collecting de-core-news-sm==3.4.0\n",
            "  Downloading https://github.com/explosion/spacy-models/releases/download/de_core_news_sm-3.4.0/de_core_news_sm-3.4.0-py3-none-any.whl (14.6 MB)\n",
            "\u001b[K     |████████████████████████████████| 14.6 MB 5.2 MB/s \n",
            "\u001b[?25hRequirement already satisfied: spacy<3.5.0,>=3.4.0 in /usr/local/lib/python3.7/dist-packages (from de-core-news-sm==3.4.0) (3.4.1)\n",
            "Requirement already satisfied: cymem<2.1.0,>=2.0.2 in /usr/local/lib/python3.7/dist-packages (from spacy<3.5.0,>=3.4.0->de-core-news-sm==3.4.0) (2.0.6)\n",
            "Requirement already satisfied: setuptools in /usr/local/lib/python3.7/dist-packages (from spacy<3.5.0,>=3.4.0->de-core-news-sm==3.4.0) (57.4.0)\n",
            "Requirement already satisfied: pydantic!=1.8,!=1.8.1,<1.10.0,>=1.7.4 in /usr/local/lib/python3.7/dist-packages (from spacy<3.5.0,>=3.4.0->de-core-news-sm==3.4.0) (1.9.1)\n",
            "Requirement already satisfied: typing-extensions<4.2.0,>=3.7.4 in /usr/local/lib/python3.7/dist-packages (from spacy<3.5.0,>=3.4.0->de-core-news-sm==3.4.0) (4.1.1)\n",
            "Requirement already satisfied: packaging>=20.0 in /usr/local/lib/python3.7/dist-packages (from spacy<3.5.0,>=3.4.0->de-core-news-sm==3.4.0) (21.3)\n",
            "Requirement already satisfied: numpy>=1.15.0 in /usr/local/lib/python3.7/dist-packages (from spacy<3.5.0,>=3.4.0->de-core-news-sm==3.4.0) (1.21.6)\n",
            "Requirement already satisfied: srsly<3.0.0,>=2.4.3 in /usr/local/lib/python3.7/dist-packages (from spacy<3.5.0,>=3.4.0->de-core-news-sm==3.4.0) (2.4.4)\n",
            "Requirement already satisfied: requests<3.0.0,>=2.13.0 in /usr/local/lib/python3.7/dist-packages (from spacy<3.5.0,>=3.4.0->de-core-news-sm==3.4.0) (2.23.0)\n",
            "Requirement already satisfied: spacy-loggers<2.0.0,>=1.0.0 in /usr/local/lib/python3.7/dist-packages (from spacy<3.5.0,>=3.4.0->de-core-news-sm==3.4.0) (1.0.3)\n",
            "Requirement already satisfied: wasabi<1.1.0,>=0.9.1 in /usr/local/lib/python3.7/dist-packages (from spacy<3.5.0,>=3.4.0->de-core-news-sm==3.4.0) (0.10.1)\n",
            "Requirement already satisfied: langcodes<4.0.0,>=3.2.0 in /usr/local/lib/python3.7/dist-packages (from spacy<3.5.0,>=3.4.0->de-core-news-sm==3.4.0) (3.3.0)\n",
            "Requirement already satisfied: thinc<8.2.0,>=8.1.0 in /usr/local/lib/python3.7/dist-packages (from spacy<3.5.0,>=3.4.0->de-core-news-sm==3.4.0) (8.1.0)\n",
            "Requirement already satisfied: typer<0.5.0,>=0.3.0 in /usr/local/lib/python3.7/dist-packages (from spacy<3.5.0,>=3.4.0->de-core-news-sm==3.4.0) (0.4.2)\n",
            "Requirement already satisfied: pathy>=0.3.5 in /usr/local/lib/python3.7/dist-packages (from spacy<3.5.0,>=3.4.0->de-core-news-sm==3.4.0) (0.6.2)\n",
            "Requirement already satisfied: murmurhash<1.1.0,>=0.28.0 in /usr/local/lib/python3.7/dist-packages (from spacy<3.5.0,>=3.4.0->de-core-news-sm==3.4.0) (1.0.7)\n",
            "Requirement already satisfied: preshed<3.1.0,>=3.0.2 in /usr/local/lib/python3.7/dist-packages (from spacy<3.5.0,>=3.4.0->de-core-news-sm==3.4.0) (3.0.6)\n",
            "Requirement already satisfied: jinja2 in /usr/local/lib/python3.7/dist-packages (from spacy<3.5.0,>=3.4.0->de-core-news-sm==3.4.0) (2.11.3)\n",
            "Requirement already satisfied: tqdm<5.0.0,>=4.38.0 in /usr/local/lib/python3.7/dist-packages (from spacy<3.5.0,>=3.4.0->de-core-news-sm==3.4.0) (4.64.0)\n",
            "Requirement already satisfied: spacy-legacy<3.1.0,>=3.0.9 in /usr/local/lib/python3.7/dist-packages (from spacy<3.5.0,>=3.4.0->de-core-news-sm==3.4.0) (3.0.9)\n",
            "Requirement already satisfied: catalogue<2.1.0,>=2.0.6 in /usr/local/lib/python3.7/dist-packages (from spacy<3.5.0,>=3.4.0->de-core-news-sm==3.4.0) (2.0.8)\n",
            "Requirement already satisfied: zipp>=0.5 in /usr/local/lib/python3.7/dist-packages (from catalogue<2.1.0,>=2.0.6->spacy<3.5.0,>=3.4.0->de-core-news-sm==3.4.0) (3.8.1)\n",
            "Requirement already satisfied: pyparsing!=3.0.5,>=2.0.2 in /usr/local/lib/python3.7/dist-packages (from packaging>=20.0->spacy<3.5.0,>=3.4.0->de-core-news-sm==3.4.0) (3.0.9)\n",
            "Requirement already satisfied: smart-open<6.0.0,>=5.2.1 in /usr/local/lib/python3.7/dist-packages (from pathy>=0.3.5->spacy<3.5.0,>=3.4.0->de-core-news-sm==3.4.0) (5.2.1)\n",
            "Requirement already satisfied: idna<3,>=2.5 in /usr/local/lib/python3.7/dist-packages (from requests<3.0.0,>=2.13.0->spacy<3.5.0,>=3.4.0->de-core-news-sm==3.4.0) (2.10)\n",
            "Requirement already satisfied: certifi>=2017.4.17 in /usr/local/lib/python3.7/dist-packages (from requests<3.0.0,>=2.13.0->spacy<3.5.0,>=3.4.0->de-core-news-sm==3.4.0) (2022.6.15)\n",
            "Requirement already satisfied: urllib3!=1.25.0,!=1.25.1,<1.26,>=1.21.1 in /usr/local/lib/python3.7/dist-packages (from requests<3.0.0,>=2.13.0->spacy<3.5.0,>=3.4.0->de-core-news-sm==3.4.0) (1.25.11)\n",
            "Requirement already satisfied: chardet<4,>=3.0.2 in /usr/local/lib/python3.7/dist-packages (from requests<3.0.0,>=2.13.0->spacy<3.5.0,>=3.4.0->de-core-news-sm==3.4.0) (3.0.4)\n",
            "Requirement already satisfied: blis<0.8.0,>=0.7.8 in /usr/local/lib/python3.7/dist-packages (from thinc<8.2.0,>=8.1.0->spacy<3.5.0,>=3.4.0->de-core-news-sm==3.4.0) (0.7.8)\n",
            "Requirement already satisfied: click<9.0.0,>=7.1.1 in /usr/local/lib/python3.7/dist-packages (from typer<0.5.0,>=0.3.0->spacy<3.5.0,>=3.4.0->de-core-news-sm==3.4.0) (7.1.2)\n",
            "Requirement already satisfied: MarkupSafe>=0.23 in /usr/local/lib/python3.7/dist-packages (from jinja2->spacy<3.5.0,>=3.4.0->de-core-news-sm==3.4.0) (2.0.1)\n",
            "Installing collected packages: de-core-news-sm\n",
            "Successfully installed de-core-news-sm-3.4.0\n",
            "\u001b[38;5;2m✔ Download and installation successful\u001b[0m\n",
            "You can now load the package via spacy.load('de_core_news_sm')\n",
            "Looking in indexes: https://pypi.org/simple, https://us-python.pkg.dev/colab-wheels/public/simple/\n",
            "Collecting en-core-web-sm==3.4.0\n",
            "  Downloading https://github.com/explosion/spacy-models/releases/download/en_core_web_sm-3.4.0/en_core_web_sm-3.4.0-py3-none-any.whl (12.8 MB)\n",
            "\u001b[K     |████████████████████████████████| 12.8 MB 5.4 MB/s \n",
            "\u001b[?25hRequirement already satisfied: spacy<3.5.0,>=3.4.0 in /usr/local/lib/python3.7/dist-packages (from en-core-web-sm==3.4.0) (3.4.1)\n",
            "Requirement already satisfied: pydantic!=1.8,!=1.8.1,<1.10.0,>=1.7.4 in /usr/local/lib/python3.7/dist-packages (from spacy<3.5.0,>=3.4.0->en-core-web-sm==3.4.0) (1.9.1)\n",
            "Requirement already satisfied: cymem<2.1.0,>=2.0.2 in /usr/local/lib/python3.7/dist-packages (from spacy<3.5.0,>=3.4.0->en-core-web-sm==3.4.0) (2.0.6)\n",
            "Requirement already satisfied: jinja2 in /usr/local/lib/python3.7/dist-packages (from spacy<3.5.0,>=3.4.0->en-core-web-sm==3.4.0) (2.11.3)\n",
            "Requirement already satisfied: setuptools in /usr/local/lib/python3.7/dist-packages (from spacy<3.5.0,>=3.4.0->en-core-web-sm==3.4.0) (57.4.0)\n",
            "Requirement already satisfied: spacy-loggers<2.0.0,>=1.0.0 in /usr/local/lib/python3.7/dist-packages (from spacy<3.5.0,>=3.4.0->en-core-web-sm==3.4.0) (1.0.3)\n",
            "Requirement already satisfied: murmurhash<1.1.0,>=0.28.0 in /usr/local/lib/python3.7/dist-packages (from spacy<3.5.0,>=3.4.0->en-core-web-sm==3.4.0) (1.0.7)\n",
            "Requirement already satisfied: pathy>=0.3.5 in /usr/local/lib/python3.7/dist-packages (from spacy<3.5.0,>=3.4.0->en-core-web-sm==3.4.0) (0.6.2)\n",
            "Requirement already satisfied: srsly<3.0.0,>=2.4.3 in /usr/local/lib/python3.7/dist-packages (from spacy<3.5.0,>=3.4.0->en-core-web-sm==3.4.0) (2.4.4)\n",
            "Requirement already satisfied: packaging>=20.0 in /usr/local/lib/python3.7/dist-packages (from spacy<3.5.0,>=3.4.0->en-core-web-sm==3.4.0) (21.3)\n",
            "Requirement already satisfied: thinc<8.2.0,>=8.1.0 in /usr/local/lib/python3.7/dist-packages (from spacy<3.5.0,>=3.4.0->en-core-web-sm==3.4.0) (8.1.0)\n",
            "Requirement already satisfied: langcodes<4.0.0,>=3.2.0 in /usr/local/lib/python3.7/dist-packages (from spacy<3.5.0,>=3.4.0->en-core-web-sm==3.4.0) (3.3.0)\n",
            "Requirement already satisfied: preshed<3.1.0,>=3.0.2 in /usr/local/lib/python3.7/dist-packages (from spacy<3.5.0,>=3.4.0->en-core-web-sm==3.4.0) (3.0.6)\n",
            "Requirement already satisfied: spacy-legacy<3.1.0,>=3.0.9 in /usr/local/lib/python3.7/dist-packages (from spacy<3.5.0,>=3.4.0->en-core-web-sm==3.4.0) (3.0.9)\n",
            "Requirement already satisfied: typer<0.5.0,>=0.3.0 in /usr/local/lib/python3.7/dist-packages (from spacy<3.5.0,>=3.4.0->en-core-web-sm==3.4.0) (0.4.2)\n",
            "Requirement already satisfied: catalogue<2.1.0,>=2.0.6 in /usr/local/lib/python3.7/dist-packages (from spacy<3.5.0,>=3.4.0->en-core-web-sm==3.4.0) (2.0.8)\n",
            "Requirement already satisfied: requests<3.0.0,>=2.13.0 in /usr/local/lib/python3.7/dist-packages (from spacy<3.5.0,>=3.4.0->en-core-web-sm==3.4.0) (2.23.0)\n",
            "Requirement already satisfied: tqdm<5.0.0,>=4.38.0 in /usr/local/lib/python3.7/dist-packages (from spacy<3.5.0,>=3.4.0->en-core-web-sm==3.4.0) (4.64.0)\n",
            "Requirement already satisfied: wasabi<1.1.0,>=0.9.1 in /usr/local/lib/python3.7/dist-packages (from spacy<3.5.0,>=3.4.0->en-core-web-sm==3.4.0) (0.10.1)\n",
            "Requirement already satisfied: typing-extensions<4.2.0,>=3.7.4 in /usr/local/lib/python3.7/dist-packages (from spacy<3.5.0,>=3.4.0->en-core-web-sm==3.4.0) (4.1.1)\n",
            "Requirement already satisfied: numpy>=1.15.0 in /usr/local/lib/python3.7/dist-packages (from spacy<3.5.0,>=3.4.0->en-core-web-sm==3.4.0) (1.21.6)\n",
            "Requirement already satisfied: zipp>=0.5 in /usr/local/lib/python3.7/dist-packages (from catalogue<2.1.0,>=2.0.6->spacy<3.5.0,>=3.4.0->en-core-web-sm==3.4.0) (3.8.1)\n",
            "Requirement already satisfied: pyparsing!=3.0.5,>=2.0.2 in /usr/local/lib/python3.7/dist-packages (from packaging>=20.0->spacy<3.5.0,>=3.4.0->en-core-web-sm==3.4.0) (3.0.9)\n",
            "Requirement already satisfied: smart-open<6.0.0,>=5.2.1 in /usr/local/lib/python3.7/dist-packages (from pathy>=0.3.5->spacy<3.5.0,>=3.4.0->en-core-web-sm==3.4.0) (5.2.1)\n",
            "Requirement already satisfied: certifi>=2017.4.17 in /usr/local/lib/python3.7/dist-packages (from requests<3.0.0,>=2.13.0->spacy<3.5.0,>=3.4.0->en-core-web-sm==3.4.0) (2022.6.15)\n",
            "Requirement already satisfied: chardet<4,>=3.0.2 in /usr/local/lib/python3.7/dist-packages (from requests<3.0.0,>=2.13.0->spacy<3.5.0,>=3.4.0->en-core-web-sm==3.4.0) (3.0.4)\n",
            "Requirement already satisfied: urllib3!=1.25.0,!=1.25.1,<1.26,>=1.21.1 in /usr/local/lib/python3.7/dist-packages (from requests<3.0.0,>=2.13.0->spacy<3.5.0,>=3.4.0->en-core-web-sm==3.4.0) (1.25.11)\n",
            "Requirement already satisfied: idna<3,>=2.5 in /usr/local/lib/python3.7/dist-packages (from requests<3.0.0,>=2.13.0->spacy<3.5.0,>=3.4.0->en-core-web-sm==3.4.0) (2.10)\n",
            "Requirement already satisfied: blis<0.8.0,>=0.7.8 in /usr/local/lib/python3.7/dist-packages (from thinc<8.2.0,>=8.1.0->spacy<3.5.0,>=3.4.0->en-core-web-sm==3.4.0) (0.7.8)\n",
            "Requirement already satisfied: click<9.0.0,>=7.1.1 in /usr/local/lib/python3.7/dist-packages (from typer<0.5.0,>=0.3.0->spacy<3.5.0,>=3.4.0->en-core-web-sm==3.4.0) (7.1.2)\n",
            "Requirement already satisfied: MarkupSafe>=0.23 in /usr/local/lib/python3.7/dist-packages (from jinja2->spacy<3.5.0,>=3.4.0->en-core-web-sm==3.4.0) (2.0.1)\n",
            "\u001b[38;5;2m✔ Download and installation successful\u001b[0m\n",
            "You can now load the package via spacy.load('en_core_web_sm')\n"
          ]
        }
      ]
    },
    {
      "cell_type": "code",
      "source": [
        "import os\n",
        "from os.path import exists\n",
        "import torch\n",
        "import torch.nn as nn\n",
        "from torch.nn.functional import log_softmax, pad\n",
        "import math\n",
        "import copy\n",
        "import time\n",
        "from torch.optim.lr_scheduler import LambdaLR\n",
        "import pandas as pd\n",
        "import altair as alt\n",
        "from torchtext.data.functional import to_map_style_dataset\n",
        "from torch.utils.data import DataLoader\n",
        "from torchtext.vocab import build_vocab_from_iterator\n",
        "import torchtext.datasets as datasets\n",
        "import spacy\n",
        "import GPUtil\n",
        "import warnings\n",
        "from torch.utils.data.distributed import DistributedSampler\n",
        "import torch.distributed as dist\n",
        "import torch.multiprocessing as mp\n",
        "from torch.nn.parallel import DistributedDataParallel as DDP"
      ],
      "metadata": {
        "id": "54qE9anE5gpI"
      },
      "execution_count": 2,
      "outputs": []
    },
    {
      "cell_type": "code",
      "source": [
        "# Set to False to skip notebook execution (e.g. for debugging)\n",
        "warnings.filterwarnings(\"ignore\")\n",
        "RUN_EXAMPLES = True"
      ],
      "metadata": {
        "id": "3KZ1uvQb5_Jq"
      },
      "execution_count": 3,
      "outputs": []
    },
    {
      "cell_type": "code",
      "source": [
        "# Some convenience helper functions used throughout the notebook\n",
        "\n",
        "def is_interactive_notebook():\n",
        "    return __name__ == \"__main__\"\n",
        "\n",
        "\n",
        "def show_example(fn, args=[]):\n",
        "    if __name__ == \"__main__\" and RUN_EXAMPLES:\n",
        "        return fn(*args)\n",
        "\n",
        "\n",
        "def execute_example(fn, args=[]):\n",
        "    if __name__ == \"__main__\" and RUN_EXAMPLES:\n",
        "        fn(*args)\n",
        "\n",
        "\n",
        "class DummyOptimizer(torch.optim.Optimizer):\n",
        "    def __init__(self):\n",
        "        self.param_groups = [{\"lr\": 0}]\n",
        "        None\n",
        "\n",
        "    def step(self):\n",
        "        None\n",
        "\n",
        "    def zero_grad(self, set_to_none=False):\n",
        "        None\n",
        "\n",
        "\n",
        "class DummyScheduler:\n",
        "    def step(self):\n",
        "        None"
      ],
      "metadata": {
        "id": "w3MqvL_E6D_8"
      },
      "execution_count": 4,
      "outputs": []
    },
    {
      "cell_type": "markdown",
      "source": [
        "# 1.Model Architecture"
      ],
      "metadata": {
        "id": "3G3-u7Y4v2dk"
      }
    },
    {
      "cell_type": "markdown",
      "source": [
        " ![image.png](data:image/png;base64,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)\n",
        "\n",
        "\n",
        "\n"
      ],
      "metadata": {
        "id": "jUkYmaGfyrfv"
      }
    },
    {
      "cell_type": "code",
      "execution_count": 5,
      "metadata": {
        "id": "wwMcyfOJvZnT"
      },
      "outputs": [],
      "source": [
        "class EncoderDecoder(nn.Module):\n",
        "    \"\"\"\n",
        "    A standard Encoder-Decoder architecture. Base for this and many\n",
        "    other models.\n",
        "    \"\"\"\n",
        "\n",
        "    def __init__(self, encoder, decoder, src_embed, tgt_embed, generator):\n",
        "        super(EncoderDecoder, self).__init__()\n",
        "        self.encoder = encoder\n",
        "        self.decoder = decoder\n",
        "        self.src_embed = src_embed\n",
        "        self.tgt_embed = tgt_embed\n",
        "        self.generator = generator\n",
        "\n",
        "    def forward(self, src, tgt, src_mask, tgt_mask):\n",
        "        \"Take in and process masked src and target sequences.\"\n",
        "        return self.decode(self.encode(src, src_mask), src_mask, tgt, tgt_mask)\n",
        "\n",
        "    def encode(self, src, src_mask):\n",
        "        return self.encoder(self.src_embed(src), src_mask)\n",
        "\n",
        "    def decode(self, memory, src_mask, tgt, tgt_mask):\n",
        "        return self.decoder(self.tgt_embed(tgt), memory, src_mask, tgt_mask)"
      ]
    },
    {
      "cell_type": "code",
      "source": [
        "class Generator(nn.Module):\n",
        "    \"Define standard linear + softmax generation step.\"\n",
        "\n",
        "    def __init__(self, d_model, vocab):\n",
        "        super(Generator, self).__init__()\n",
        "        self.proj = nn.Linear(d_model, vocab)\n",
        "\n",
        "    def forward(self, x):\n",
        "        return log_softmax(self.proj(x), dim=-1)"
      ],
      "metadata": {
        "id": "Z-ByNG5uvx9N"
      },
      "execution_count": 6,
      "outputs": []
    },
    {
      "cell_type": "markdown",
      "source": [
        "## 1.1 Encoder"
      ],
      "metadata": {
        "id": "ybkcD8oP1mbf"
      }
    },
    {
      "cell_type": "markdown",
      "source": [
        "- Encoder gồm N blocks xác định"
      ],
      "metadata": {
        "id": "UPDwPErA26nh"
      }
    },
    {
      "cell_type": "code",
      "source": [
        "def clones(module, N):\n",
        "    \"Produce N identical layers.\"\n",
        "    return nn.ModuleList([copy.deepcopy(module) for _ in range(N)])"
      ],
      "metadata": {
        "id": "5l54dwixxo7D"
      },
      "execution_count": 7,
      "outputs": []
    },
    {
      "cell_type": "code",
      "source": [
        "class Encoder(nn.Module):\n",
        "    \"Core encoder is a stack of N layers\"\n",
        "\n",
        "    def __init__(self, layer, N):\n",
        "        super(Encoder, self).__init__()\n",
        "        self.layers = clones(layer, N)\n",
        "        self.norm = LayerNorm(layer.size)\n",
        "\n",
        "    def forward(self, x, mask):\n",
        "        \"Pass the input (and mask) through each layer in turn.\"\n",
        "        for layer in self.layers:\n",
        "            x = layer(x, mask)\n",
        "        return self.norm(x)"
      ],
      "metadata": {
        "id": "huZWuUXp1vZ9"
      },
      "execution_count": 8,
      "outputs": []
    },
    {
      "cell_type": "markdown",
      "source": [
        "- Chúng ta triển khai kết nối phần dư trong 2 khối phụ, tiếp nối bởi lớp LayerNorm.\n",
        "\n",
        "- Đầu ra của mỗi sub-layer sẽ là LayerNorm(x + Sublayer(x))\n",
        "\n",
        "- Sẽ có 2 sub-layer. Sub-layer đầu tiên là Multi-head Attention, còn sub-layer thứ hai là một mạng feed-forward khá đơn giản.\n",
        "\n",
        "- Để  làm dễ  dàng hơn thì mọi sublayer trong mô hình kể cả embedding layers thì chiều của các output sẽ là $d_{model} = 512$.\n",
        "\n",
        "![image.png](data:image/png;base64,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)"
      ],
      "metadata": {
        "id": "sFgCfrzX3KMY"
      }
    },
    {
      "cell_type": "code",
      "source": [
        "class LayerNorm(nn.Module):\n",
        "    \"Construct a layernorm module (See citation for details).\"\n",
        "\n",
        "    def __init__(self, features, eps=1e-6):\n",
        "        super(LayerNorm, self).__init__()\n",
        "        self.a_2 = nn.Parameter(torch.ones(features))\n",
        "        self.b_2 = nn.Parameter(torch.zeros(features))\n",
        "        self.eps = eps\n",
        "\n",
        "    def forward(self, x):\n",
        "        mean = x.mean(-1, keepdim=True)\n",
        "        std = x.std(-1, keepdim=True)\n",
        "        return self.a_2 * (x - mean) / (std + self.eps) + self.b_2"
      ],
      "metadata": {
        "id": "4vfQTBYn7Uyh"
      },
      "execution_count": 9,
      "outputs": []
    },
    {
      "cell_type": "code",
      "source": [
        "class SublayerConnection(nn.Module):\n",
        "    \"\"\"\n",
        "    A residual connection followed by a layer norm.\n",
        "    Note for code simplicity the norm is first as opposed to last.\n",
        "    \"\"\"\n",
        "\n",
        "    def __init__(self, size, dropout):\n",
        "        super(SublayerConnection, self).__init__()\n",
        "        self.norm = LayerNorm(size)\n",
        "        self.dropout = nn.Dropout(dropout)\n",
        "\n",
        "    def forward(self, x, sublayer):\n",
        "        \"Apply residual connection to any sublayer with the same size.\"\n",
        "        return x + self.dropout(sublayer(self.norm(x)))"
      ],
      "metadata": {
        "id": "HxrjYKp8-wbh"
      },
      "execution_count": 10,
      "outputs": []
    },
    {
      "cell_type": "code",
      "source": [
        "class EncoderLayer(nn.Module):\n",
        "    \"Encoder is made up of self-attn and feed forward (defined below)\"\n",
        "\n",
        "    def __init__(self, size, self_attn, feed_forward, dropout):\n",
        "        super(EncoderLayer, self).__init__()\n",
        "        self.self_attn = self_attn\n",
        "        self.feed_forward = feed_forward\n",
        "        self.sublayer = clones(SublayerConnection(size, dropout), 2)\n",
        "        self.size = size\n",
        "\n",
        "    def forward(self, x, mask):\n",
        "        \"Follow Figure 1 (left) for connections.\"\n",
        "        x = self.sublayer[0](x, lambda x: self.self_attn(x, x, x, mask))\n",
        "        return self.sublayer[1](x, self.feed_forward)"
      ],
      "metadata": {
        "id": "GaolRg5AD2um"
      },
      "execution_count": 11,
      "outputs": []
    },
    {
      "cell_type": "markdown",
      "source": [
        "## 1.2 Decoder"
      ],
      "metadata": {
        "id": "3W7DuuagWg_7"
      }
    },
    {
      "cell_type": "markdown",
      "source": [
        "- Decoder về tương tự cũng bao gồm N khối"
      ],
      "metadata": {
        "id": "PyzvSfdkW9XD"
      }
    },
    {
      "cell_type": "code",
      "source": [
        "class Decoder(nn.Module):\n",
        "    \"Generic N layer decoder with masking.\"\n",
        "\n",
        "    def __init__(self, layer, N):\n",
        "        super(Decoder, self).__init__()\n",
        "        self.layers = clones(layer, N)\n",
        "        self.norm = LayerNorm(layer.size)\n",
        "\n",
        "    def forward(self, x, memory, src_mask, tgt_mask):\n",
        "        for layer in self.layers:\n",
        "            x = layer(x, memory, src_mask, tgt_mask)\n",
        "        return self.norm(x)"
      ],
      "metadata": {
        "id": "cHwpaTVyYOzE"
      },
      "execution_count": 12,
      "outputs": []
    },
    {
      "cell_type": "markdown",
      "source": [
        "- Ngoài hai sub-layer giống phần Encoder, một khối bên Decoder bổ sung thêm một sublayer thứ ba Masked Multihead Attention.\n",
        "\n",
        "- Khối này thực thi Multihead Attention sử dụng cả đầu ra của phần Encoder.\n",
        "\n",
        "\n",
        "![image.png](data:image/png;base64,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)"
      ],
      "metadata": {
        "id": "2cDz5XqYekU1"
      }
    },
    {
      "cell_type": "code",
      "source": [
        "class DecoderLayer(nn.Module):\n",
        "    \"Decoder is made of self-attn, src-attn, and feed forward (defined below)\"\n",
        "\n",
        "    def __init__(self, size, self_attn, src_attn, feed_forward, dropout):\n",
        "        super(DecoderLayer, self).__init__()\n",
        "        self.size = size\n",
        "        self.self_attn = self_attn\n",
        "        self.src_attn = src_attn\n",
        "        self.feed_forward = feed_forward\n",
        "        self.sublayer = clones(SublayerConnection(size, dropout), 3)\n",
        "\n",
        "    def forward(self, x, memory, src_mask, tgt_mask):\n",
        "        m = memory\n",
        "        x = self.sublayer[0](x, lambda x: self.self_attn(x, x, x, tgt_mask))\n",
        "        x = self.sublayer[1](x, lambda x: self.src_attn(x, m, m, src_mask))\n",
        "        return self.sublayer[2](x, self.feed_forward)"
      ],
      "metadata": {
        "id": "0FT8opQLf8qA"
      },
      "execution_count": 13,
      "outputs": []
    },
    {
      "cell_type": "code",
      "source": [
        "def subsequent_mask(size):\n",
        "    \"Mask out subsequent positions.\"\n",
        "    attn_shape = (1, size, size)\n",
        "    subsequent_mask = torch.triu(torch.ones(attn_shape), diagonal=1).type(\n",
        "        torch.uint8\n",
        "    )\n",
        "    return subsequent_mask == 0"
      ],
      "metadata": {
        "id": "iSW4t_5smQoY"
      },
      "execution_count": 14,
      "outputs": []
    },
    {
      "cell_type": "code",
      "source": [
        "def example_mask():\n",
        "    LS_data = pd.concat(\n",
        "        [\n",
        "            pd.DataFrame(\n",
        "                {\n",
        "                    \"Subsequent Mask\": subsequent_mask(20)[0][x, y].flatten(),\n",
        "                    \"Window\": y,\n",
        "                    \"Masking\": x,\n",
        "                }\n",
        "            )\n",
        "            for y in range(20)\n",
        "            for x in range(20)\n",
        "        ]\n",
        "    )\n",
        "\n",
        "    return (\n",
        "        alt.Chart(LS_data)\n",
        "        .mark_rect()\n",
        "        .properties(height=250, width=250)\n",
        "        .encode(\n",
        "            alt.X(\"Window:O\"),\n",
        "            alt.Y(\"Masking:O\"),\n",
        "            alt.Color(\"Subsequent Mask:Q\", scale=alt.Scale(scheme=\"viridis\")),\n",
        "        )\n",
        "        .interactive()\n",
        "    )\n",
        "\n",
        "\n",
        "show_example(example_mask)"
      ],
      "metadata": {
        "colab": {
          "base_uri": "https://localhost:8080/",
          "height": 315
        },
        "id": "5LHxdR7HAtKq",
        "outputId": "5de2cbae-ddfd-44e9-b565-41a2851267df"
      },
      "execution_count": 15,
      "outputs": [
        {
          "output_type": "execute_result",
          "data": {
            "text/html": [
              "\n",
              "<div id=\"altair-viz-b1f3f8628c184ef18c46d8ebbc6bde9f\"></div>\n",
              "<script type=\"text/javascript\">\n",
              "  var VEGA_DEBUG = (typeof VEGA_DEBUG == \"undefined\") ? {} : VEGA_DEBUG;\n",
              "  (function(spec, embedOpt){\n",
              "    let outputDiv = document.currentScript.previousElementSibling;\n",
              "    if (outputDiv.id !== \"altair-viz-b1f3f8628c184ef18c46d8ebbc6bde9f\") {\n",
              "      outputDiv = document.getElementById(\"altair-viz-b1f3f8628c184ef18c46d8ebbc6bde9f\");\n",
              "    }\n",
              "    const paths = {\n",
              "      \"vega\": \"https://cdn.jsdelivr.net/npm//vega@5?noext\",\n",
              "      \"vega-lib\": \"https://cdn.jsdelivr.net/npm//vega-lib?noext\",\n",
              "      \"vega-lite\": \"https://cdn.jsdelivr.net/npm//vega-lite@4.17.0?noext\",\n",
              "      \"vega-embed\": \"https://cdn.jsdelivr.net/npm//vega-embed@6?noext\",\n",
              "    };\n",
              "\n",
              "    function maybeLoadScript(lib, version) {\n",
              "      var key = `${lib.replace(\"-\", \"\")}_version`;\n",
              "      return (VEGA_DEBUG[key] == version) ?\n",
              "        Promise.resolve(paths[lib]) :\n",
              "        new Promise(function(resolve, reject) {\n",
              "          var s = document.createElement('script');\n",
              "          document.getElementsByTagName(\"head\")[0].appendChild(s);\n",
              "          s.async = true;\n",
              "          s.onload = () => {\n",
              "            VEGA_DEBUG[key] = version;\n",
              "            return resolve(paths[lib]);\n",
              "          };\n",
              "          s.onerror = () => reject(`Error loading script: ${paths[lib]}`);\n",
              "          s.src = paths[lib];\n",
              "        });\n",
              "    }\n",
              "\n",
              "    function showError(err) {\n",
              "      outputDiv.innerHTML = `<div class=\"error\" style=\"color:red;\">${err}</div>`;\n",
              "      throw err;\n",
              "    }\n",
              "\n",
              "    function displayChart(vegaEmbed) {\n",
              "      vegaEmbed(outputDiv, spec, embedOpt)\n",
              "        .catch(err => showError(`Javascript Error: ${err.message}<br>This usually means there's a typo in your chart specification. See the javascript console for the full traceback.`));\n",
              "    }\n",
              "\n",
              "    if(typeof define === \"function\" && define.amd) {\n",
              "      requirejs.config({paths});\n",
              "      require([\"vega-embed\"], displayChart, err => showError(`Error loading script: ${err.message}`));\n",
              "    } else {\n",
              "      maybeLoadScript(\"vega\", \"5\")\n",
              "        .then(() => maybeLoadScript(\"vega-lite\", \"4.17.0\"))\n",
              "        .then(() => maybeLoadScript(\"vega-embed\", \"6\"))\n",
              "        .catch(showError)\n",
              "        .then(() => displayChart(vegaEmbed));\n",
              "    }\n",
              "  })({\"config\": {\"view\": {\"continuousWidth\": 400, \"continuousHeight\": 300}}, \"data\": {\"name\": \"data-ac10fa76400c18dafea2d104267bb03d\"}, \"mark\": \"rect\", \"encoding\": {\"color\": {\"field\": \"Subsequent Mask\", \"scale\": {\"scheme\": \"viridis\"}, \"type\": \"quantitative\"}, \"x\": {\"field\": \"Window\", \"type\": \"ordinal\"}, \"y\": {\"field\": \"Masking\", \"type\": \"ordinal\"}}, \"height\": 250, \"selection\": {\"selector001\": {\"type\": \"interval\", \"bind\": \"scales\", \"encodings\": [\"x\", \"y\"]}}, \"width\": 250, \"$schema\": \"https://vega.github.io/schema/vega-lite/v4.17.0.json\", \"datasets\": {\"data-ac10fa76400c18dafea2d104267bb03d\": [{\"Subsequent Mask\": true, \"Window\": 0, \"Masking\": 0}, {\"Subsequent Mask\": true, \"Window\": 0, \"Masking\": 1}, {\"Subsequent Mask\": true, \"Window\": 0, \"Masking\": 2}, {\"Subsequent Mask\": true, \"Window\": 0, \"Masking\": 3}, {\"Subsequent Mask\": true, \"Window\": 0, \"Masking\": 4}, {\"Subsequent Mask\": true, \"Window\": 0, \"Masking\": 5}, {\"Subsequent Mask\": true, \"Window\": 0, \"Masking\": 6}, {\"Subsequent Mask\": true, \"Window\": 0, \"Masking\": 7}, {\"Subsequent Mask\": true, \"Window\": 0, \"Masking\": 8}, {\"Subsequent Mask\": true, \"Window\": 0, \"Masking\": 9}, {\"Subsequent Mask\": true, \"Window\": 0, \"Masking\": 10}, {\"Subsequent Mask\": true, \"Window\": 0, \"Masking\": 11}, {\"Subsequent Mask\": true, \"Window\": 0, \"Masking\": 12}, {\"Subsequent Mask\": true, \"Window\": 0, \"Masking\": 13}, {\"Subsequent Mask\": true, \"Window\": 0, \"Masking\": 14}, {\"Subsequent Mask\": true, \"Window\": 0, \"Masking\": 15}, {\"Subsequent Mask\": true, \"Window\": 0, \"Masking\": 16}, {\"Subsequent Mask\": true, \"Window\": 0, \"Masking\": 17}, {\"Subsequent Mask\": true, \"Window\": 0, \"Masking\": 18}, {\"Subsequent Mask\": true, \"Window\": 0, \"Masking\": 19}, {\"Subsequent Mask\": false, \"Window\": 1, \"Masking\": 0}, {\"Subsequent Mask\": true, \"Window\": 1, \"Masking\": 1}, {\"Subsequent Mask\": true, \"Window\": 1, \"Masking\": 2}, {\"Subsequent Mask\": true, \"Window\": 1, \"Masking\": 3}, {\"Subsequent Mask\": true, \"Window\": 1, \"Masking\": 4}, {\"Subsequent Mask\": true, \"Window\": 1, \"Masking\": 5}, {\"Subsequent Mask\": true, \"Window\": 1, \"Masking\": 6}, {\"Subsequent Mask\": true, \"Window\": 1, \"Masking\": 7}, {\"Subsequent Mask\": true, \"Window\": 1, \"Masking\": 8}, {\"Subsequent Mask\": true, \"Window\": 1, \"Masking\": 9}, {\"Subsequent Mask\": true, \"Window\": 1, \"Masking\": 10}, {\"Subsequent Mask\": true, \"Window\": 1, \"Masking\": 11}, {\"Subsequent Mask\": true, \"Window\": 1, \"Masking\": 12}, {\"Subsequent Mask\": true, \"Window\": 1, \"Masking\": 13}, {\"Subsequent Mask\": true, \"Window\": 1, \"Masking\": 14}, {\"Subsequent Mask\": true, \"Window\": 1, \"Masking\": 15}, {\"Subsequent Mask\": true, \"Window\": 1, \"Masking\": 16}, {\"Subsequent Mask\": true, \"Window\": 1, \"Masking\": 17}, {\"Subsequent Mask\": true, \"Window\": 1, \"Masking\": 18}, {\"Subsequent Mask\": true, \"Window\": 1, \"Masking\": 19}, {\"Subsequent Mask\": false, \"Window\": 2, \"Masking\": 0}, {\"Subsequent Mask\": false, \"Window\": 2, \"Masking\": 1}, {\"Subsequent Mask\": true, \"Window\": 2, \"Masking\": 2}, {\"Subsequent Mask\": true, \"Window\": 2, \"Masking\": 3}, {\"Subsequent Mask\": true, \"Window\": 2, \"Masking\": 4}, {\"Subsequent Mask\": true, \"Window\": 2, \"Masking\": 5}, {\"Subsequent Mask\": true, \"Window\": 2, \"Masking\": 6}, {\"Subsequent Mask\": true, \"Window\": 2, \"Masking\": 7}, {\"Subsequent Mask\": true, \"Window\": 2, \"Masking\": 8}, {\"Subsequent Mask\": true, \"Window\": 2, \"Masking\": 9}, {\"Subsequent Mask\": true, \"Window\": 2, \"Masking\": 10}, {\"Subsequent Mask\": true, \"Window\": 2, \"Masking\": 11}, {\"Subsequent Mask\": true, \"Window\": 2, \"Masking\": 12}, {\"Subsequent Mask\": true, \"Window\": 2, \"Masking\": 13}, {\"Subsequent Mask\": true, \"Window\": 2, \"Masking\": 14}, {\"Subsequent Mask\": true, \"Window\": 2, \"Masking\": 15}, {\"Subsequent Mask\": true, \"Window\": 2, \"Masking\": 16}, {\"Subsequent Mask\": true, \"Window\": 2, \"Masking\": 17}, {\"Subsequent Mask\": true, \"Window\": 2, \"Masking\": 18}, {\"Subsequent Mask\": true, \"Window\": 2, \"Masking\": 19}, {\"Subsequent Mask\": false, \"Window\": 3, \"Masking\": 0}, {\"Subsequent Mask\": false, \"Window\": 3, \"Masking\": 1}, {\"Subsequent Mask\": false, \"Window\": 3, \"Masking\": 2}, {\"Subsequent Mask\": true, \"Window\": 3, \"Masking\": 3}, {\"Subsequent Mask\": true, \"Window\": 3, \"Masking\": 4}, {\"Subsequent Mask\": true, \"Window\": 3, \"Masking\": 5}, {\"Subsequent Mask\": true, \"Window\": 3, \"Masking\": 6}, {\"Subsequent Mask\": true, \"Window\": 3, \"Masking\": 7}, {\"Subsequent Mask\": true, \"Window\": 3, \"Masking\": 8}, {\"Subsequent Mask\": true, \"Window\": 3, \"Masking\": 9}, {\"Subsequent Mask\": true, \"Window\": 3, \"Masking\": 10}, {\"Subsequent Mask\": true, \"Window\": 3, \"Masking\": 11}, {\"Subsequent Mask\": true, \"Window\": 3, \"Masking\": 12}, {\"Subsequent Mask\": true, \"Window\": 3, \"Masking\": 13}, {\"Subsequent Mask\": true, \"Window\": 3, \"Masking\": 14}, {\"Subsequent Mask\": true, \"Window\": 3, \"Masking\": 15}, {\"Subsequent Mask\": true, \"Window\": 3, \"Masking\": 16}, {\"Subsequent Mask\": true, \"Window\": 3, \"Masking\": 17}, {\"Subsequent Mask\": true, \"Window\": 3, \"Masking\": 18}, {\"Subsequent Mask\": true, \"Window\": 3, \"Masking\": 19}, {\"Subsequent Mask\": false, \"Window\": 4, \"Masking\": 0}, {\"Subsequent Mask\": false, \"Window\": 4, \"Masking\": 1}, {\"Subsequent Mask\": false, \"Window\": 4, \"Masking\": 2}, {\"Subsequent Mask\": false, \"Window\": 4, \"Masking\": 3}, {\"Subsequent Mask\": true, \"Window\": 4, \"Masking\": 4}, {\"Subsequent Mask\": true, \"Window\": 4, \"Masking\": 5}, {\"Subsequent Mask\": true, \"Window\": 4, \"Masking\": 6}, {\"Subsequent Mask\": true, \"Window\": 4, \"Masking\": 7}, {\"Subsequent Mask\": true, \"Window\": 4, \"Masking\": 8}, {\"Subsequent Mask\": true, \"Window\": 4, \"Masking\": 9}, {\"Subsequent Mask\": true, \"Window\": 4, \"Masking\": 10}, {\"Subsequent Mask\": true, \"Window\": 4, \"Masking\": 11}, {\"Subsequent Mask\": true, \"Window\": 4, \"Masking\": 12}, {\"Subsequent Mask\": true, \"Window\": 4, \"Masking\": 13}, {\"Subsequent Mask\": true, \"Window\": 4, \"Masking\": 14}, {\"Subsequent Mask\": true, \"Window\": 4, \"Masking\": 15}, {\"Subsequent Mask\": true, \"Window\": 4, \"Masking\": 16}, {\"Subsequent Mask\": true, \"Window\": 4, \"Masking\": 17}, {\"Subsequent Mask\": true, \"Window\": 4, \"Masking\": 18}, {\"Subsequent Mask\": true, \"Window\": 4, \"Masking\": 19}, {\"Subsequent Mask\": false, \"Window\": 5, \"Masking\": 0}, {\"Subsequent Mask\": false, \"Window\": 5, \"Masking\": 1}, {\"Subsequent Mask\": false, \"Window\": 5, \"Masking\": 2}, {\"Subsequent Mask\": false, \"Window\": 5, \"Masking\": 3}, {\"Subsequent Mask\": false, \"Window\": 5, \"Masking\": 4}, {\"Subsequent Mask\": true, \"Window\": 5, \"Masking\": 5}, {\"Subsequent Mask\": true, \"Window\": 5, \"Masking\": 6}, {\"Subsequent Mask\": true, \"Window\": 5, \"Masking\": 7}, {\"Subsequent Mask\": true, \"Window\": 5, \"Masking\": 8}, {\"Subsequent Mask\": true, \"Window\": 5, \"Masking\": 9}, {\"Subsequent Mask\": true, \"Window\": 5, \"Masking\": 10}, {\"Subsequent Mask\": true, \"Window\": 5, \"Masking\": 11}, {\"Subsequent Mask\": true, \"Window\": 5, \"Masking\": 12}, {\"Subsequent Mask\": true, \"Window\": 5, \"Masking\": 13}, {\"Subsequent Mask\": true, \"Window\": 5, \"Masking\": 14}, {\"Subsequent Mask\": true, \"Window\": 5, \"Masking\": 15}, {\"Subsequent Mask\": true, \"Window\": 5, \"Masking\": 16}, {\"Subsequent Mask\": true, \"Window\": 5, \"Masking\": 17}, {\"Subsequent Mask\": true, \"Window\": 5, \"Masking\": 18}, {\"Subsequent Mask\": true, \"Window\": 5, \"Masking\": 19}, {\"Subsequent Mask\": false, \"Window\": 6, \"Masking\": 0}, {\"Subsequent Mask\": false, \"Window\": 6, \"Masking\": 1}, {\"Subsequent Mask\": false, \"Window\": 6, \"Masking\": 2}, {\"Subsequent Mask\": false, \"Window\": 6, \"Masking\": 3}, {\"Subsequent Mask\": false, \"Window\": 6, \"Masking\": 4}, {\"Subsequent Mask\": false, \"Window\": 6, \"Masking\": 5}, {\"Subsequent Mask\": true, \"Window\": 6, \"Masking\": 6}, {\"Subsequent Mask\": true, \"Window\": 6, \"Masking\": 7}, {\"Subsequent Mask\": true, \"Window\": 6, \"Masking\": 8}, {\"Subsequent Mask\": true, \"Window\": 6, \"Masking\": 9}, {\"Subsequent Mask\": true, \"Window\": 6, \"Masking\": 10}, {\"Subsequent Mask\": true, \"Window\": 6, \"Masking\": 11}, {\"Subsequent Mask\": true, \"Window\": 6, \"Masking\": 12}, {\"Subsequent Mask\": true, \"Window\": 6, \"Masking\": 13}, {\"Subsequent Mask\": true, \"Window\": 6, \"Masking\": 14}, {\"Subsequent Mask\": true, \"Window\": 6, \"Masking\": 15}, {\"Subsequent Mask\": true, \"Window\": 6, \"Masking\": 16}, {\"Subsequent Mask\": true, \"Window\": 6, \"Masking\": 17}, {\"Subsequent Mask\": true, \"Window\": 6, \"Masking\": 18}, {\"Subsequent Mask\": true, \"Window\": 6, \"Masking\": 19}, {\"Subsequent Mask\": false, \"Window\": 7, \"Masking\": 0}, {\"Subsequent Mask\": false, \"Window\": 7, \"Masking\": 1}, {\"Subsequent Mask\": false, \"Window\": 7, \"Masking\": 2}, {\"Subsequent Mask\": false, \"Window\": 7, \"Masking\": 3}, {\"Subsequent Mask\": false, \"Window\": 7, \"Masking\": 4}, {\"Subsequent Mask\": false, \"Window\": 7, \"Masking\": 5}, {\"Subsequent Mask\": false, \"Window\": 7, \"Masking\": 6}, {\"Subsequent Mask\": true, \"Window\": 7, \"Masking\": 7}, {\"Subsequent Mask\": true, \"Window\": 7, \"Masking\": 8}, {\"Subsequent Mask\": true, \"Window\": 7, \"Masking\": 9}, {\"Subsequent Mask\": true, \"Window\": 7, \"Masking\": 10}, {\"Subsequent Mask\": true, \"Window\": 7, \"Masking\": 11}, {\"Subsequent Mask\": true, \"Window\": 7, \"Masking\": 12}, {\"Subsequent Mask\": true, \"Window\": 7, \"Masking\": 13}, {\"Subsequent Mask\": true, \"Window\": 7, \"Masking\": 14}, {\"Subsequent Mask\": true, \"Window\": 7, \"Masking\": 15}, {\"Subsequent Mask\": true, \"Window\": 7, \"Masking\": 16}, {\"Subsequent Mask\": true, \"Window\": 7, \"Masking\": 17}, {\"Subsequent Mask\": true, \"Window\": 7, \"Masking\": 18}, {\"Subsequent Mask\": true, \"Window\": 7, \"Masking\": 19}, {\"Subsequent Mask\": false, \"Window\": 8, \"Masking\": 0}, {\"Subsequent Mask\": false, \"Window\": 8, \"Masking\": 1}, {\"Subsequent Mask\": false, \"Window\": 8, \"Masking\": 2}, {\"Subsequent Mask\": false, \"Window\": 8, \"Masking\": 3}, {\"Subsequent Mask\": false, \"Window\": 8, \"Masking\": 4}, {\"Subsequent Mask\": false, \"Window\": 8, \"Masking\": 5}, {\"Subsequent Mask\": false, \"Window\": 8, \"Masking\": 6}, {\"Subsequent Mask\": false, \"Window\": 8, \"Masking\": 7}, {\"Subsequent Mask\": true, \"Window\": 8, \"Masking\": 8}, {\"Subsequent Mask\": true, \"Window\": 8, \"Masking\": 9}, {\"Subsequent Mask\": true, \"Window\": 8, \"Masking\": 10}, {\"Subsequent Mask\": true, \"Window\": 8, \"Masking\": 11}, {\"Subsequent Mask\": true, \"Window\": 8, \"Masking\": 12}, {\"Subsequent Mask\": true, \"Window\": 8, \"Masking\": 13}, {\"Subsequent Mask\": true, \"Window\": 8, \"Masking\": 14}, {\"Subsequent Mask\": true, \"Window\": 8, \"Masking\": 15}, {\"Subsequent Mask\": true, \"Window\": 8, \"Masking\": 16}, {\"Subsequent Mask\": true, \"Window\": 8, \"Masking\": 17}, {\"Subsequent Mask\": true, \"Window\": 8, \"Masking\": 18}, {\"Subsequent Mask\": true, \"Window\": 8, \"Masking\": 19}, {\"Subsequent Mask\": false, \"Window\": 9, \"Masking\": 0}, {\"Subsequent Mask\": false, \"Window\": 9, \"Masking\": 1}, {\"Subsequent Mask\": false, \"Window\": 9, \"Masking\": 2}, {\"Subsequent Mask\": false, \"Window\": 9, \"Masking\": 3}, {\"Subsequent Mask\": false, \"Window\": 9, \"Masking\": 4}, {\"Subsequent Mask\": false, \"Window\": 9, \"Masking\": 5}, {\"Subsequent Mask\": false, \"Window\": 9, \"Masking\": 6}, {\"Subsequent Mask\": false, \"Window\": 9, \"Masking\": 7}, {\"Subsequent Mask\": false, \"Window\": 9, \"Masking\": 8}, {\"Subsequent Mask\": true, \"Window\": 9, \"Masking\": 9}, {\"Subsequent Mask\": true, \"Window\": 9, \"Masking\": 10}, {\"Subsequent Mask\": true, \"Window\": 9, \"Masking\": 11}, {\"Subsequent Mask\": true, \"Window\": 9, \"Masking\": 12}, {\"Subsequent Mask\": true, \"Window\": 9, \"Masking\": 13}, {\"Subsequent Mask\": true, \"Window\": 9, \"Masking\": 14}, {\"Subsequent Mask\": true, \"Window\": 9, \"Masking\": 15}, {\"Subsequent Mask\": true, \"Window\": 9, \"Masking\": 16}, {\"Subsequent Mask\": true, \"Window\": 9, \"Masking\": 17}, {\"Subsequent Mask\": true, \"Window\": 9, \"Masking\": 18}, {\"Subsequent Mask\": true, \"Window\": 9, \"Masking\": 19}, {\"Subsequent Mask\": false, \"Window\": 10, \"Masking\": 0}, {\"Subsequent Mask\": false, \"Window\": 10, \"Masking\": 1}, {\"Subsequent Mask\": false, \"Window\": 10, \"Masking\": 2}, {\"Subsequent Mask\": false, \"Window\": 10, \"Masking\": 3}, {\"Subsequent Mask\": false, \"Window\": 10, \"Masking\": 4}, {\"Subsequent Mask\": false, \"Window\": 10, \"Masking\": 5}, {\"Subsequent Mask\": false, \"Window\": 10, \"Masking\": 6}, {\"Subsequent Mask\": false, \"Window\": 10, \"Masking\": 7}, {\"Subsequent Mask\": false, \"Window\": 10, \"Masking\": 8}, {\"Subsequent Mask\": false, \"Window\": 10, \"Masking\": 9}, {\"Subsequent Mask\": true, \"Window\": 10, \"Masking\": 10}, {\"Subsequent Mask\": true, \"Window\": 10, \"Masking\": 11}, {\"Subsequent Mask\": true, \"Window\": 10, \"Masking\": 12}, {\"Subsequent Mask\": true, \"Window\": 10, \"Masking\": 13}, {\"Subsequent Mask\": true, \"Window\": 10, \"Masking\": 14}, {\"Subsequent Mask\": true, \"Window\": 10, \"Masking\": 15}, {\"Subsequent Mask\": true, \"Window\": 10, \"Masking\": 16}, {\"Subsequent Mask\": true, \"Window\": 10, \"Masking\": 17}, {\"Subsequent Mask\": true, \"Window\": 10, \"Masking\": 18}, {\"Subsequent Mask\": true, \"Window\": 10, \"Masking\": 19}, {\"Subsequent Mask\": false, \"Window\": 11, \"Masking\": 0}, {\"Subsequent Mask\": false, \"Window\": 11, \"Masking\": 1}, {\"Subsequent Mask\": false, \"Window\": 11, \"Masking\": 2}, {\"Subsequent Mask\": false, \"Window\": 11, \"Masking\": 3}, {\"Subsequent Mask\": false, \"Window\": 11, \"Masking\": 4}, {\"Subsequent Mask\": false, \"Window\": 11, \"Masking\": 5}, {\"Subsequent Mask\": false, \"Window\": 11, \"Masking\": 6}, {\"Subsequent Mask\": false, \"Window\": 11, \"Masking\": 7}, {\"Subsequent Mask\": false, \"Window\": 11, \"Masking\": 8}, {\"Subsequent Mask\": false, \"Window\": 11, \"Masking\": 9}, {\"Subsequent Mask\": false, \"Window\": 11, \"Masking\": 10}, {\"Subsequent Mask\": true, \"Window\": 11, \"Masking\": 11}, {\"Subsequent Mask\": true, \"Window\": 11, \"Masking\": 12}, {\"Subsequent Mask\": true, \"Window\": 11, \"Masking\": 13}, {\"Subsequent Mask\": true, \"Window\": 11, \"Masking\": 14}, {\"Subsequent Mask\": true, \"Window\": 11, \"Masking\": 15}, {\"Subsequent Mask\": true, \"Window\": 11, \"Masking\": 16}, {\"Subsequent Mask\": true, \"Window\": 11, \"Masking\": 17}, {\"Subsequent Mask\": true, \"Window\": 11, \"Masking\": 18}, {\"Subsequent Mask\": true, \"Window\": 11, \"Masking\": 19}, {\"Subsequent Mask\": false, \"Window\": 12, \"Masking\": 0}, {\"Subsequent Mask\": false, \"Window\": 12, \"Masking\": 1}, {\"Subsequent Mask\": false, \"Window\": 12, \"Masking\": 2}, {\"Subsequent Mask\": false, \"Window\": 12, \"Masking\": 3}, {\"Subsequent Mask\": false, \"Window\": 12, \"Masking\": 4}, {\"Subsequent Mask\": false, \"Window\": 12, \"Masking\": 5}, {\"Subsequent Mask\": false, \"Window\": 12, \"Masking\": 6}, {\"Subsequent Mask\": false, \"Window\": 12, \"Masking\": 7}, {\"Subsequent Mask\": false, \"Window\": 12, \"Masking\": 8}, {\"Subsequent Mask\": false, \"Window\": 12, \"Masking\": 9}, {\"Subsequent Mask\": false, \"Window\": 12, \"Masking\": 10}, {\"Subsequent Mask\": false, \"Window\": 12, \"Masking\": 11}, {\"Subsequent Mask\": true, \"Window\": 12, \"Masking\": 12}, {\"Subsequent Mask\": true, \"Window\": 12, \"Masking\": 13}, {\"Subsequent Mask\": true, \"Window\": 12, \"Masking\": 14}, {\"Subsequent Mask\": true, \"Window\": 12, \"Masking\": 15}, {\"Subsequent Mask\": true, \"Window\": 12, \"Masking\": 16}, {\"Subsequent Mask\": true, \"Window\": 12, \"Masking\": 17}, {\"Subsequent Mask\": true, \"Window\": 12, \"Masking\": 18}, {\"Subsequent Mask\": true, \"Window\": 12, \"Masking\": 19}, {\"Subsequent Mask\": false, \"Window\": 13, \"Masking\": 0}, {\"Subsequent Mask\": false, \"Window\": 13, \"Masking\": 1}, {\"Subsequent Mask\": false, \"Window\": 13, \"Masking\": 2}, {\"Subsequent Mask\": false, \"Window\": 13, \"Masking\": 3}, {\"Subsequent Mask\": false, \"Window\": 13, \"Masking\": 4}, {\"Subsequent Mask\": false, \"Window\": 13, \"Masking\": 5}, {\"Subsequent Mask\": false, \"Window\": 13, \"Masking\": 6}, {\"Subsequent Mask\": false, \"Window\": 13, \"Masking\": 7}, {\"Subsequent Mask\": false, \"Window\": 13, \"Masking\": 8}, {\"Subsequent Mask\": false, \"Window\": 13, \"Masking\": 9}, {\"Subsequent Mask\": false, \"Window\": 13, \"Masking\": 10}, {\"Subsequent Mask\": false, \"Window\": 13, \"Masking\": 11}, {\"Subsequent Mask\": false, \"Window\": 13, \"Masking\": 12}, {\"Subsequent Mask\": true, \"Window\": 13, \"Masking\": 13}, {\"Subsequent Mask\": true, \"Window\": 13, \"Masking\": 14}, {\"Subsequent Mask\": true, \"Window\": 13, \"Masking\": 15}, {\"Subsequent Mask\": true, \"Window\": 13, \"Masking\": 16}, {\"Subsequent Mask\": true, \"Window\": 13, \"Masking\": 17}, {\"Subsequent Mask\": true, \"Window\": 13, \"Masking\": 18}, {\"Subsequent Mask\": true, \"Window\": 13, \"Masking\": 19}, {\"Subsequent Mask\": false, \"Window\": 14, \"Masking\": 0}, {\"Subsequent Mask\": false, \"Window\": 14, \"Masking\": 1}, {\"Subsequent Mask\": false, \"Window\": 14, \"Masking\": 2}, {\"Subsequent Mask\": false, \"Window\": 14, \"Masking\": 3}, {\"Subsequent Mask\": false, \"Window\": 14, \"Masking\": 4}, {\"Subsequent Mask\": false, \"Window\": 14, \"Masking\": 5}, {\"Subsequent Mask\": false, \"Window\": 14, \"Masking\": 6}, {\"Subsequent Mask\": false, \"Window\": 14, \"Masking\": 7}, {\"Subsequent Mask\": false, \"Window\": 14, \"Masking\": 8}, {\"Subsequent Mask\": false, \"Window\": 14, \"Masking\": 9}, {\"Subsequent Mask\": false, \"Window\": 14, \"Masking\": 10}, {\"Subsequent Mask\": false, \"Window\": 14, \"Masking\": 11}, {\"Subsequent Mask\": false, \"Window\": 14, \"Masking\": 12}, {\"Subsequent Mask\": false, \"Window\": 14, \"Masking\": 13}, {\"Subsequent Mask\": true, \"Window\": 14, \"Masking\": 14}, {\"Subsequent Mask\": true, \"Window\": 14, \"Masking\": 15}, {\"Subsequent Mask\": true, \"Window\": 14, \"Masking\": 16}, {\"Subsequent Mask\": true, \"Window\": 14, \"Masking\": 17}, {\"Subsequent Mask\": true, \"Window\": 14, \"Masking\": 18}, {\"Subsequent Mask\": true, \"Window\": 14, \"Masking\": 19}, {\"Subsequent Mask\": false, \"Window\": 15, \"Masking\": 0}, {\"Subsequent Mask\": false, \"Window\": 15, \"Masking\": 1}, {\"Subsequent Mask\": false, \"Window\": 15, \"Masking\": 2}, {\"Subsequent Mask\": false, \"Window\": 15, \"Masking\": 3}, {\"Subsequent Mask\": false, \"Window\": 15, \"Masking\": 4}, {\"Subsequent Mask\": false, \"Window\": 15, \"Masking\": 5}, {\"Subsequent Mask\": false, \"Window\": 15, \"Masking\": 6}, {\"Subsequent Mask\": false, \"Window\": 15, \"Masking\": 7}, {\"Subsequent Mask\": false, \"Window\": 15, \"Masking\": 8}, {\"Subsequent Mask\": false, \"Window\": 15, \"Masking\": 9}, {\"Subsequent Mask\": false, \"Window\": 15, \"Masking\": 10}, {\"Subsequent Mask\": false, \"Window\": 15, \"Masking\": 11}, {\"Subsequent Mask\": false, \"Window\": 15, \"Masking\": 12}, {\"Subsequent Mask\": false, \"Window\": 15, \"Masking\": 13}, {\"Subsequent Mask\": false, \"Window\": 15, \"Masking\": 14}, {\"Subsequent Mask\": true, \"Window\": 15, \"Masking\": 15}, {\"Subsequent Mask\": true, \"Window\": 15, \"Masking\": 16}, {\"Subsequent Mask\": true, \"Window\": 15, \"Masking\": 17}, {\"Subsequent Mask\": true, \"Window\": 15, \"Masking\": 18}, {\"Subsequent Mask\": true, \"Window\": 15, \"Masking\": 19}, {\"Subsequent Mask\": false, \"Window\": 16, \"Masking\": 0}, {\"Subsequent Mask\": false, \"Window\": 16, \"Masking\": 1}, {\"Subsequent Mask\": false, \"Window\": 16, \"Masking\": 2}, {\"Subsequent Mask\": false, \"Window\": 16, \"Masking\": 3}, {\"Subsequent Mask\": false, \"Window\": 16, \"Masking\": 4}, {\"Subsequent Mask\": false, \"Window\": 16, \"Masking\": 5}, {\"Subsequent Mask\": false, \"Window\": 16, \"Masking\": 6}, {\"Subsequent Mask\": false, \"Window\": 16, \"Masking\": 7}, {\"Subsequent Mask\": false, \"Window\": 16, \"Masking\": 8}, {\"Subsequent Mask\": false, \"Window\": 16, \"Masking\": 9}, {\"Subsequent Mask\": false, \"Window\": 16, \"Masking\": 10}, {\"Subsequent Mask\": false, \"Window\": 16, \"Masking\": 11}, {\"Subsequent Mask\": false, \"Window\": 16, \"Masking\": 12}, {\"Subsequent Mask\": false, \"Window\": 16, \"Masking\": 13}, {\"Subsequent Mask\": false, \"Window\": 16, \"Masking\": 14}, {\"Subsequent Mask\": false, \"Window\": 16, \"Masking\": 15}, {\"Subsequent Mask\": true, \"Window\": 16, \"Masking\": 16}, {\"Subsequent Mask\": true, \"Window\": 16, \"Masking\": 17}, {\"Subsequent Mask\": true, \"Window\": 16, \"Masking\": 18}, {\"Subsequent Mask\": true, \"Window\": 16, \"Masking\": 19}, {\"Subsequent Mask\": false, \"Window\": 17, \"Masking\": 0}, {\"Subsequent Mask\": false, \"Window\": 17, \"Masking\": 1}, {\"Subsequent Mask\": false, \"Window\": 17, \"Masking\": 2}, {\"Subsequent Mask\": false, \"Window\": 17, \"Masking\": 3}, {\"Subsequent Mask\": false, \"Window\": 17, \"Masking\": 4}, {\"Subsequent Mask\": false, \"Window\": 17, \"Masking\": 5}, {\"Subsequent Mask\": false, \"Window\": 17, \"Masking\": 6}, {\"Subsequent Mask\": false, \"Window\": 17, \"Masking\": 7}, {\"Subsequent Mask\": false, \"Window\": 17, \"Masking\": 8}, {\"Subsequent Mask\": false, \"Window\": 17, \"Masking\": 9}, {\"Subsequent Mask\": false, \"Window\": 17, \"Masking\": 10}, {\"Subsequent Mask\": false, \"Window\": 17, \"Masking\": 11}, {\"Subsequent Mask\": false, \"Window\": 17, \"Masking\": 12}, {\"Subsequent Mask\": false, \"Window\": 17, \"Masking\": 13}, {\"Subsequent Mask\": false, \"Window\": 17, \"Masking\": 14}, {\"Subsequent Mask\": false, \"Window\": 17, \"Masking\": 15}, {\"Subsequent Mask\": false, \"Window\": 17, \"Masking\": 16}, {\"Subsequent Mask\": true, \"Window\": 17, \"Masking\": 17}, {\"Subsequent Mask\": true, \"Window\": 17, \"Masking\": 18}, {\"Subsequent Mask\": true, \"Window\": 17, \"Masking\": 19}, {\"Subsequent Mask\": false, \"Window\": 18, \"Masking\": 0}, {\"Subsequent Mask\": false, \"Window\": 18, \"Masking\": 1}, {\"Subsequent Mask\": false, \"Window\": 18, \"Masking\": 2}, {\"Subsequent Mask\": false, \"Window\": 18, \"Masking\": 3}, {\"Subsequent Mask\": false, \"Window\": 18, \"Masking\": 4}, {\"Subsequent Mask\": false, \"Window\": 18, \"Masking\": 5}, {\"Subsequent Mask\": false, \"Window\": 18, \"Masking\": 6}, {\"Subsequent Mask\": false, \"Window\": 18, \"Masking\": 7}, {\"Subsequent Mask\": false, \"Window\": 18, \"Masking\": 8}, {\"Subsequent Mask\": false, \"Window\": 18, \"Masking\": 9}, {\"Subsequent Mask\": false, \"Window\": 18, \"Masking\": 10}, {\"Subsequent Mask\": false, \"Window\": 18, \"Masking\": 11}, {\"Subsequent Mask\": false, \"Window\": 18, \"Masking\": 12}, {\"Subsequent Mask\": false, \"Window\": 18, \"Masking\": 13}, {\"Subsequent Mask\": false, \"Window\": 18, \"Masking\": 14}, {\"Subsequent Mask\": false, \"Window\": 18, \"Masking\": 15}, {\"Subsequent Mask\": false, \"Window\": 18, \"Masking\": 16}, {\"Subsequent Mask\": false, \"Window\": 18, \"Masking\": 17}, {\"Subsequent Mask\": true, \"Window\": 18, \"Masking\": 18}, {\"Subsequent Mask\": true, \"Window\": 18, \"Masking\": 19}, {\"Subsequent Mask\": false, \"Window\": 19, \"Masking\": 0}, {\"Subsequent Mask\": false, \"Window\": 19, \"Masking\": 1}, {\"Subsequent Mask\": false, \"Window\": 19, \"Masking\": 2}, {\"Subsequent Mask\": false, \"Window\": 19, \"Masking\": 3}, {\"Subsequent Mask\": false, \"Window\": 19, \"Masking\": 4}, {\"Subsequent Mask\": false, \"Window\": 19, \"Masking\": 5}, {\"Subsequent Mask\": false, \"Window\": 19, \"Masking\": 6}, {\"Subsequent Mask\": false, \"Window\": 19, \"Masking\": 7}, {\"Subsequent Mask\": false, \"Window\": 19, \"Masking\": 8}, {\"Subsequent Mask\": false, \"Window\": 19, \"Masking\": 9}, {\"Subsequent Mask\": false, \"Window\": 19, \"Masking\": 10}, {\"Subsequent Mask\": false, \"Window\": 19, \"Masking\": 11}, {\"Subsequent Mask\": false, \"Window\": 19, \"Masking\": 12}, {\"Subsequent Mask\": false, \"Window\": 19, \"Masking\": 13}, {\"Subsequent Mask\": false, \"Window\": 19, \"Masking\": 14}, {\"Subsequent Mask\": false, \"Window\": 19, \"Masking\": 15}, {\"Subsequent Mask\": false, \"Window\": 19, \"Masking\": 16}, {\"Subsequent Mask\": false, \"Window\": 19, \"Masking\": 17}, {\"Subsequent Mask\": false, \"Window\": 19, \"Masking\": 18}, {\"Subsequent Mask\": true, \"Window\": 19, \"Masking\": 19}]}}, {\"mode\": \"vega-lite\"});\n",
              "</script>"
            ],
            "text/plain": [
              "alt.Chart(...)"
            ]
          },
          "metadata": {},
          "execution_count": 15
        }
      ]
    },
    {
      "cell_type": "markdown",
      "source": [
        "## 1.3 Functional Layers"
      ],
      "metadata": {
        "id": "QXm_hyFvAv2A"
      }
    },
    {
      "cell_type": "markdown",
      "source": [
        "### 1.3.1 Embeddings"
      ],
      "metadata": {
        "id": "ahOatCBpLA6v"
      }
    },
    {
      "cell_type": "code",
      "source": [
        "class Embeddings(nn.Module):\n",
        "    def __init__(self, d_model, vocab):\n",
        "        super(Embeddings, self).__init__()\n",
        "        self.lut = nn.Embedding(vocab, d_model)\n",
        "        self.d_model = d_model\n",
        "\n",
        "    def forward(self, x):\n",
        "        return self.lut(x) * math.sqrt(self.d_model)"
      ],
      "metadata": {
        "id": "iJxyqKAzLJCF"
      },
      "execution_count": 16,
      "outputs": []
    },
    {
      "cell_type": "markdown",
      "source": [
        "### 1.3.2 Positional Encoding"
      ],
      "metadata": {
        "id": "OpTXda8cJnwa"
      }
    },
    {
      "cell_type": "markdown",
      "source": [
        "- $PE$($pos$, $2i$) = $sin(pos/10000^{2i/d_{model}})$ \n",
        "- $PE$($pos$, $2i+1$) = $cos(pos/10000^{2i/d_{model}})$ "
      ],
      "metadata": {
        "id": "qg3kJtsVJwp1"
      }
    },
    {
      "cell_type": "code",
      "source": [
        "class PositionalEncoding(nn.Module):\n",
        "    \"Implement the PE function.\"\n",
        "\n",
        "    def __init__(self, d_model, dropout, max_len=5000):\n",
        "        super(PositionalEncoding, self).__init__()\n",
        "        self.dropout = nn.Dropout(p=dropout)\n",
        "\n",
        "        # Compute the positional encodings once in log space.\n",
        "        pe = torch.zeros(max_len, d_model)\n",
        "        position = torch.arange(0, max_len).unsqueeze(1)\n",
        "        div_term = torch.exp(\n",
        "            torch.arange(0, d_model, 2) * -(math.log(10000.0) / d_model)\n",
        "        )\n",
        "        pe[:, 0::2] = torch.sin(position * div_term)\n",
        "        pe[:, 1::2] = torch.cos(position * div_term)\n",
        "        pe = pe.unsqueeze(0)\n",
        "        self.register_buffer(\"pe\", pe)\n",
        "\n",
        "    def forward(self, x):\n",
        "        x = x + self.pe[:, : x.size(1)].requires_grad_(False)\n",
        "        return self.dropout(x)"
      ],
      "metadata": {
        "id": "Zy9rNAc8J9Nr"
      },
      "execution_count": 17,
      "outputs": []
    },
    {
      "cell_type": "code",
      "source": [
        "def example_positional():\n",
        "    pe = PositionalEncoding(20, 0)\n",
        "    y = pe.forward(torch.zeros(1, 100, 20))\n",
        "\n",
        "    data = pd.concat(\n",
        "        [\n",
        "            pd.DataFrame(\n",
        "                {\n",
        "                    \"embedding\": y[0, :, dim],\n",
        "                    \"dimension\": dim,\n",
        "                    \"position\": list(range(100)),\n",
        "                }\n",
        "            )\n",
        "            for dim in [4, 5, 6, 7]\n",
        "        ]\n",
        "    )\n",
        "\n",
        "    return (\n",
        "        alt.Chart(data)\n",
        "        .mark_line()\n",
        "        .properties(width=800)\n",
        "        .encode(x=\"position\", y=\"embedding\", color=\"dimension:N\")\n",
        "        .interactive()\n",
        "    )\n",
        "\n",
        "\n",
        "show_example(example_positional)"
      ],
      "metadata": {
        "colab": {
          "base_uri": "https://localhost:8080/",
          "height": 368
        },
        "id": "FP_1wX5wKCOP",
        "outputId": "1cf851af-59cc-4a9e-c83d-fc1b59eb76b2"
      },
      "execution_count": 18,
      "outputs": [
        {
          "output_type": "execute_result",
          "data": {
            "text/html": [
              "\n",
              "<div id=\"altair-viz-0b8e9a21f4064486892b12a5106bce51\"></div>\n",
              "<script type=\"text/javascript\">\n",
              "  var VEGA_DEBUG = (typeof VEGA_DEBUG == \"undefined\") ? {} : VEGA_DEBUG;\n",
              "  (function(spec, embedOpt){\n",
              "    let outputDiv = document.currentScript.previousElementSibling;\n",
              "    if (outputDiv.id !== \"altair-viz-0b8e9a21f4064486892b12a5106bce51\") {\n",
              "      outputDiv = document.getElementById(\"altair-viz-0b8e9a21f4064486892b12a5106bce51\");\n",
              "    }\n",
              "    const paths = {\n",
              "      \"vega\": \"https://cdn.jsdelivr.net/npm//vega@5?noext\",\n",
              "      \"vega-lib\": \"https://cdn.jsdelivr.net/npm//vega-lib?noext\",\n",
              "      \"vega-lite\": \"https://cdn.jsdelivr.net/npm//vega-lite@4.17.0?noext\",\n",
              "      \"vega-embed\": \"https://cdn.jsdelivr.net/npm//vega-embed@6?noext\",\n",
              "    };\n",
              "\n",
              "    function maybeLoadScript(lib, version) {\n",
              "      var key = `${lib.replace(\"-\", \"\")}_version`;\n",
              "      return (VEGA_DEBUG[key] == version) ?\n",
              "        Promise.resolve(paths[lib]) :\n",
              "        new Promise(function(resolve, reject) {\n",
              "          var s = document.createElement('script');\n",
              "          document.getElementsByTagName(\"head\")[0].appendChild(s);\n",
              "          s.async = true;\n",
              "          s.onload = () => {\n",
              "            VEGA_DEBUG[key] = version;\n",
              "            return resolve(paths[lib]);\n",
              "          };\n",
              "          s.onerror = () => reject(`Error loading script: ${paths[lib]}`);\n",
              "          s.src = paths[lib];\n",
              "        });\n",
              "    }\n",
              "\n",
              "    function showError(err) {\n",
              "      outputDiv.innerHTML = `<div class=\"error\" style=\"color:red;\">${err}</div>`;\n",
              "      throw err;\n",
              "    }\n",
              "\n",
              "    function displayChart(vegaEmbed) {\n",
              "      vegaEmbed(outputDiv, spec, embedOpt)\n",
              "        .catch(err => showError(`Javascript Error: ${err.message}<br>This usually means there's a typo in your chart specification. See the javascript console for the full traceback.`));\n",
              "    }\n",
              "\n",
              "    if(typeof define === \"function\" && define.amd) {\n",
              "      requirejs.config({paths});\n",
              "      require([\"vega-embed\"], displayChart, err => showError(`Error loading script: ${err.message}`));\n",
              "    } else {\n",
              "      maybeLoadScript(\"vega\", \"5\")\n",
              "        .then(() => maybeLoadScript(\"vega-lite\", \"4.17.0\"))\n",
              "        .then(() => maybeLoadScript(\"vega-embed\", \"6\"))\n",
              "        .catch(showError)\n",
              "        .then(() => displayChart(vegaEmbed));\n",
              "    }\n",
              "  })({\"config\": {\"view\": {\"continuousWidth\": 400, \"continuousHeight\": 300}}, \"data\": {\"name\": \"data-eafc635ddfa311c913cbcc2d2bc4477d\"}, \"mark\": \"line\", \"encoding\": {\"color\": {\"field\": \"dimension\", \"type\": \"nominal\"}, \"x\": {\"field\": \"position\", \"type\": \"quantitative\"}, \"y\": {\"field\": \"embedding\", \"type\": \"quantitative\"}}, \"selection\": {\"selector002\": {\"type\": \"interval\", \"bind\": \"scales\", \"encodings\": [\"x\", \"y\"]}}, \"width\": 800, \"$schema\": \"https://vega.github.io/schema/vega-lite/v4.17.0.json\", \"datasets\": {\"data-eafc635ddfa311c913cbcc2d2bc4477d\": [{\"embedding\": 0.0, \"dimension\": 4, \"position\": 0}, {\"embedding\": 0.15782663226127625, \"dimension\": 4, \"position\": 1}, {\"embedding\": 0.3116971552371979, \"dimension\": 4, \"position\": 2}, {\"embedding\": 0.45775455236434937, \"dimension\": 4, \"position\": 3}, {\"embedding\": 0.5923377275466919, \"dimension\": 4, \"position\": 4}, {\"embedding\": 0.7120732069015503, \"dimension\": 4, \"position\": 5}, {\"embedding\": 0.813959538936615, \"dimension\": 4, \"position\": 6}, {\"embedding\": 0.8954429626464844, \"dimension\": 4, \"position\": 7}, {\"embedding\": 0.9544808864593506, \"dimension\": 4, \"position\": 8}, {\"embedding\": 0.989593505859375, \"dimension\": 4, \"position\": 9}, {\"embedding\": 0.9999006390571594, \"dimension\": 4, \"position\": 10}, {\"embedding\": 0.9851439595222473, \"dimension\": 4, \"position\": 11}, {\"embedding\": 0.94569331407547, \"dimension\": 4, \"position\": 12}, {\"embedding\": 0.8825376033782959, \"dimension\": 4, \"position\": 13}, {\"embedding\": 0.7972599267959595, \"dimension\": 4, \"position\": 14}, {\"embedding\": 0.6919978260993958, \"dimension\": 4, \"position\": 15}, {\"embedding\": 0.5693899393081665, \"dimension\": 4, \"position\": 16}, {\"embedding\": 0.4325096309185028, \"dimension\": 4, \"position\": 17}, {\"embedding\": 0.284787654876709, \"dimension\": 4, \"position\": 18}, {\"embedding\": 0.12992730736732483, \"dimension\": 4, \"position\": 19}, {\"embedding\": -0.028190065175294876, \"dimension\": 4, \"position\": 20}, {\"embedding\": -0.18560057878494263, \"dimension\": 4, \"position\": 21}, {\"embedding\": -0.3383587896823883, \"dimension\": 4, \"position\": 22}, {\"embedding\": -0.4826357960700989, \"dimension\": 4, \"position\": 23}, {\"embedding\": -0.6148146390914917, \"dimension\": 4, \"position\": 24}, {\"embedding\": -0.7315824031829834, \"dimension\": 4, \"position\": 25}, {\"embedding\": -0.8300122618675232, \"dimension\": 4, \"position\": 26}, {\"embedding\": -0.9076365828514099, \"dimension\": 4, \"position\": 27}, {\"embedding\": -0.96250981092453, \"dimension\": 4, \"position\": 28}, {\"embedding\": -0.9932565093040466, \"dimension\": 4, \"position\": 29}, {\"embedding\": -0.9991058707237244, \"dimension\": 4, \"position\": 30}, {\"embedding\": -0.9799113273620605, \"dimension\": 4, \"position\": 31}, {\"embedding\": -0.9361540079116821, \"dimension\": 4, \"position\": 32}, {\"embedding\": -0.8689308166503906, \"dimension\": 4, \"position\": 33}, {\"embedding\": -0.7799267172813416, \"dimension\": 4, \"position\": 34}, {\"embedding\": -0.6713724136352539, \"dimension\": 4, \"position\": 35}, {\"embedding\": -0.5459895133972168, \"dimension\": 4, \"position\": 36}, {\"embedding\": -0.40692076086997986, \"dimension\": 4, \"position\": 37}, {\"embedding\": -0.2576519548892975, \"dimension\": 4, \"position\": 38}, {\"embedding\": -0.10192479938268661, \"dimension\": 4, \"position\": 39}, {\"embedding\": 0.056357722729444504, \"dimension\": 4, \"position\": 40}, {\"embedding\": 0.21322709321975708, \"dimension\": 4, \"position\": 41}, {\"embedding\": 0.3647516369819641, \"dimension\": 4, \"position\": 42}, {\"embedding\": 0.5071332454681396, \"dimension\": 4, \"position\": 43}, {\"embedding\": 0.6368028521537781, \"dimension\": 4, \"position\": 44}, {\"embedding\": 0.7505101561546326, \"dimension\": 4, \"position\": 45}, {\"embedding\": 0.8454052805900574, \"dimension\": 4, \"position\": 46}, {\"embedding\": 0.9191088080406189, \"dimension\": 4, \"position\": 47}, {\"embedding\": 0.9697737693786621, \"dimension\": 4, \"position\": 48}, {\"embedding\": 0.9961300492286682, \"dimension\": 4, \"position\": 49}, {\"embedding\": 0.9975170493125916, \"dimension\": 4, \"position\": 50}, {\"embedding\": 0.9738998413085938, \"dimension\": 4, \"position\": 51}, {\"embedding\": 0.9258706569671631, \"dimension\": 4, \"position\": 52}, {\"embedding\": 0.8546332716941833, \"dimension\": 4, \"position\": 53}, {\"embedding\": 0.7619734406471252, \"dimension\": 4, \"position\": 54}, {\"embedding\": 0.6502137184143066, \"dimension\": 4, \"position\": 55}, {\"embedding\": 0.5221555233001709, \"dimension\": 4, \"position\": 56}, {\"embedding\": 0.38100889325141907, \"dimension\": 4, \"position\": 57}, {\"embedding\": 0.23031172156333923, \"dimension\": 4, \"position\": 58}, {\"embedding\": 0.07384055852890015, \"dimension\": 4, \"position\": 59}, {\"embedding\": -0.08448058366775513, \"dimension\": 4, \"position\": 60}, {\"embedding\": -0.2406841218471527, \"dimension\": 4, \"position\": 61}, {\"embedding\": -0.3908545970916748, \"dimension\": 4, \"position\": 62}, {\"embedding\": -0.5312277674674988, \"dimension\": 4, \"position\": 63}, {\"embedding\": -0.6582850813865662, \"dimension\": 4, \"position\": 64}, {\"embedding\": -0.768841564655304, \"dimension\": 4, \"position\": 65}, {\"embedding\": -0.8601260781288147, \"dimension\": 4, \"position\": 66}, {\"embedding\": -0.9298503994941711, \"dimension\": 4, \"position\": 67}, {\"embedding\": -0.9762668013572693, \"dimension\": 4, \"position\": 68}, {\"embedding\": -0.9982118010520935, \"dimension\": 4, \"position\": 69}, {\"embedding\": -0.9951352477073669, \"dimension\": 4, \"position\": 70}, {\"embedding\": -0.967114269733429, \"dimension\": 4, \"position\": 71}, {\"embedding\": -0.9148513078689575, \"dimension\": 4, \"position\": 72}, {\"embedding\": -0.839656412601471, \"dimension\": 4, \"position\": 73}, {\"embedding\": -0.7434144616127014, \"dimension\": 4, \"position\": 74}, {\"embedding\": -0.6285378336906433, \"dimension\": 4, \"position\": 75}, {\"embedding\": -0.4979061186313629, \"dimension\": 4, \"position\": 76}, {\"embedding\": -0.3547937273979187, \"dimension\": 4, \"position\": 77}, {\"embedding\": -0.20278796553611755, \"dimension\": 4, \"position\": 78}, {\"embedding\": -0.04569905996322632, \"dimension\": 4, \"position\": 79}, {\"embedding\": 0.11253630369901657, \"dimension\": 4, \"position\": 80}, {\"embedding\": 0.2679498493671417, \"dimension\": 4, \"position\": 81}, {\"embedding\": 0.4166468679904938, \"dimension\": 4, \"position\": 82}, {\"embedding\": 0.5549001097679138, \"dimension\": 4, \"position\": 83}, {\"embedding\": 0.6792440414428711, \"dimension\": 4, \"position\": 84}, {\"embedding\": 0.7865618467330933, \"dimension\": 4, \"position\": 85}, {\"embedding\": 0.8741634488105774, \"dimension\": 4, \"position\": 86}, {\"embedding\": 0.9398530125617981, \"dimension\": 4, \"position\": 87}, {\"embedding\": 0.9819839596748352, \"dimension\": 4, \"position\": 88}, {\"embedding\": 0.9995002150535583, \"dimension\": 4, \"position\": 89}, {\"embedding\": 0.9919626712799072, \"dimension\": 4, \"position\": 90}, {\"embedding\": 0.959559977054596, \"dimension\": 4, \"position\": 91}, {\"embedding\": 0.903104841709137, \"dimension\": 4, \"position\": 92}, {\"embedding\": 0.8240122199058533, \"dimension\": 4, \"position\": 93}, {\"embedding\": 0.7242646217346191, \"dimension\": 4, \"position\": 94}, {\"embedding\": 0.6063624024391174, \"dimension\": 4, \"position\": 95}, {\"embedding\": 0.4732609689235687, \"dimension\": 4, \"position\": 96}, {\"embedding\": 0.32829657196998596, \"dimension\": 4, \"position\": 97}, {\"embedding\": 0.17510302364826202, \"dimension\": 4, \"position\": 98}, {\"embedding\": 0.01752028614282608, \"dimension\": 4, \"position\": 99}, {\"embedding\": 1.0, \"dimension\": 5, \"position\": 0}, {\"embedding\": 0.9874668121337891, \"dimension\": 5, \"position\": 1}, {\"embedding\": 0.9501814842224121, \"dimension\": 5, \"position\": 2}, {\"embedding\": 0.8890786170959473, \"dimension\": 5, \"position\": 3}, {\"embedding\": 0.8056897521018982, \"dimension\": 5, \"position\": 4}, {\"embedding\": 0.7021052241325378, \"dimension\": 5, \"position\": 5}, {\"embedding\": 0.5809215903282166, \"dimension\": 5, \"position\": 6}, {\"embedding\": 0.44517630338668823, \"dimension\": 5, \"position\": 7}, {\"embedding\": 0.2982720732688904, \"dimension\": 5, \"position\": 8}, {\"embedding\": 0.14389123022556305, \"dimension\": 5, \"position\": 9}, {\"embedding\": -0.01409643329679966, \"dimension\": 5, \"position\": 10}, {\"embedding\": -0.1717306226491928, \"dimension\": 5, \"position\": 11}, {\"embedding\": -0.32506027817726135, \"dimension\": 5, \"position\": 12}, {\"embedding\": -0.47024187445640564, \"dimension\": 5, \"position\": 13}, {\"embedding\": -0.6036361455917358, \"dimension\": 5, \"position\": 14}, {\"embedding\": -0.7218996286392212, \"dimension\": 5, \"position\": 15}, {\"embedding\": -0.8220675587654114, \"dimension\": 5, \"position\": 16}, {\"embedding\": -0.9016293287277222, \"dimension\": 5, \"position\": 17}, {\"embedding\": -0.9585906267166138, \"dimension\": 5, \"position\": 18}, {\"embedding\": -0.9915235042572021, \"dimension\": 5, \"position\": 19}, {\"embedding\": -0.9996025562286377, \"dimension\": 5, \"position\": 20}, {\"embedding\": -0.9826252460479736, \"dimension\": 5, \"position\": 21}, {\"embedding\": -0.941017210483551, \"dimension\": 5, \"position\": 22}, {\"embedding\": -0.8758211731910706, \"dimension\": 5, \"position\": 23}, {\"embedding\": -0.788671612739563, \"dimension\": 5, \"position\": 24}, {\"embedding\": -0.6817529797554016, \"dimension\": 5, \"position\": 25}, {\"embedding\": -0.5577451586723328, \"dimension\": 5, \"position\": 26}, {\"embedding\": -0.4197568893432617, \"dimension\": 5, \"position\": 27}, {\"embedding\": -0.27124688029289246, \"dimension\": 5, \"position\": 28}, {\"embedding\": -0.11593768745660782, \"dimension\": 5, \"position\": 29}, {\"embedding\": 0.042278096079826355, \"dimension\": 5, \"position\": 30}, {\"embedding\": 0.19943365454673767, \"dimension\": 5, \"position\": 31}, {\"embedding\": 0.3515901565551758, \"dimension\": 5, \"position\": 32}, {\"embedding\": 0.4949335753917694, \"dimension\": 5, \"position\": 33}, {\"embedding\": 0.6258708238601685, \"dimension\": 5, \"position\": 34}, {\"embedding\": 0.7411201596260071, \"dimension\": 5, \"position\": 35}, {\"embedding\": 0.8377919793128967, \"dimension\": 5, \"position\": 36}, {\"embedding\": 0.9134634733200073, \"dimension\": 5, \"position\": 37}, {\"embedding\": 0.9662377834320068, \"dimension\": 5, \"position\": 38}, {\"embedding\": 0.994792103767395, \"dimension\": 5, \"position\": 39}, {\"embedding\": 0.9984106421470642, \"dimension\": 5, \"position\": 40}, {\"embedding\": 0.9770026803016663, \"dimension\": 5, \"position\": 41}, {\"embedding\": 0.931104838848114, \"dimension\": 5, \"position\": 42}, {\"embedding\": 0.8618676662445068, \"dimension\": 5, \"position\": 43}, {\"embedding\": 0.7710266709327698, \"dimension\": 5, \"position\": 44}, {\"embedding\": 0.6608588695526123, \"dimension\": 5, \"position\": 45}, {\"embedding\": 0.5341253876686096, \"dimension\": 5, \"position\": 46}, {\"embedding\": 0.3940037488937378, \"dimension\": 5, \"position\": 47}, {\"embedding\": 0.24400585889816284, \"dimension\": 5, \"position\": 48}, {\"embedding\": 0.08789165318012238, \"dimension\": 5, \"position\": 49}, {\"embedding\": -0.07042567431926727, \"dimension\": 5, \"position\": 50}, {\"embedding\": -0.2269781529903412, \"dimension\": 5, \"position\": 51}, {\"embedding\": -0.37784066796302795, \"dimension\": 5, \"position\": 52}, {\"embedding\": -0.5192320942878723, \"dimension\": 5, \"position\": 53}, {\"embedding\": -0.6476082801818848, \"dimension\": 5, \"position\": 54}, {\"embedding\": -0.7597513794898987, \"dimension\": 5, \"position\": 55}, {\"embedding\": -0.8528502583503723, \"dimension\": 5, \"position\": 56}, {\"embedding\": -0.9245713949203491, \"dimension\": 5, \"position\": 57}, {\"embedding\": -0.973116934299469, \"dimension\": 5, \"position\": 58}, {\"embedding\": -0.9972700476646423, \"dimension\": 5, \"position\": 59}, {\"embedding\": -0.9964250922203064, \"dimension\": 5, \"position\": 60}, {\"embedding\": -0.9706035256385803, \"dimension\": 5, \"position\": 61}, {\"embedding\": -0.9204524159431458, \"dimension\": 5, \"position\": 62}, {\"embedding\": -0.8472290635108948, \"dimension\": 5, \"position\": 63}, {\"embedding\": -0.7527687549591064, \"dimension\": 5, \"position\": 64}, {\"embedding\": -0.6394393444061279, \"dimension\": 5, \"position\": 65}, {\"embedding\": -0.5100815296173096, \"dimension\": 5, \"position\": 66}, {\"embedding\": -0.3679378628730774, \"dimension\": 5, \"position\": 67}, {\"embedding\": -0.2165713608264923, \"dimension\": 5, \"position\": 68}, {\"embedding\": -0.05977622792124748, \"dimension\": 5, \"position\": 69}, {\"embedding\": 0.09851823002099991, \"dimension\": 5, \"position\": 70}, {\"embedding\": 0.254342257976532, \"dimension\": 5, \"position\": 71}, {\"embedding\": 0.4037908613681793, \"dimension\": 5, \"position\": 72}, {\"embedding\": 0.543117880821228, \"dimension\": 5, \"position\": 73}, {\"embedding\": 0.6688309907913208, \"dimension\": 5, \"position\": 74}, {\"embedding\": 0.7777789831161499, \"dimension\": 5, \"position\": 75}, {\"embedding\": 0.8672309517860413, \"dimension\": 5, \"position\": 76}, {\"embedding\": 0.9349446296691895, \"dimension\": 5, \"position\": 77}, {\"embedding\": 0.9792226552963257, \"dimension\": 5, \"position\": 78}, {\"embedding\": 0.998955249786377, \"dimension\": 5, \"position\": 79}, {\"embedding\": 0.9936476349830627, \"dimension\": 5, \"position\": 80}, {\"embedding\": 0.9634328484535217, \"dimension\": 5, \"position\": 81}, {\"embedding\": 0.9090684056282043, \"dimension\": 5, \"position\": 82}, {\"embedding\": 0.8319169878959656, \"dimension\": 5, \"position\": 83}, {\"embedding\": 0.733912467956543, \"dimension\": 5, \"position\": 84}, {\"embedding\": 0.617511510848999, \"dimension\": 5, \"position\": 85}, {\"embedding\": 0.4856317937374115, \"dimension\": 5, \"position\": 86}, {\"embedding\": 0.3415791094303131, \"dimension\": 5, \"position\": 87}, {\"embedding\": 0.18896427750587463, \"dimension\": 5, \"position\": 88}, {\"embedding\": 0.0316128134727478, \"dimension\": 5, \"position\": 89}, {\"embedding\": -0.12653106451034546, \"dimension\": 5, \"position\": 90}, {\"embedding\": -0.28150418400764465, \"dimension\": 5, \"position\": 91}, {\"embedding\": -0.4294200837612152, \"dimension\": 5, \"position\": 92}, {\"embedding\": -0.5665720105171204, \"dimension\": 5, \"position\": 93}, {\"embedding\": -0.6895220875740051, \"dimension\": 5, \"position\": 94}, {\"embedding\": -0.7951884269714355, \"dimension\": 5, \"position\": 95}, {\"embedding\": -0.880922257900238, \"dimension\": 5, \"position\": 96}, {\"embedding\": -0.9445747137069702, \"dimension\": 5, \"position\": 97}, {\"embedding\": -0.9845501184463501, \"dimension\": 5, \"position\": 98}, {\"embedding\": -0.9998465180397034, \"dimension\": 5, \"position\": 99}, {\"embedding\": 0.0, \"dimension\": 6, \"position\": 0}, {\"embedding\": 0.06305388361215591, \"dimension\": 6, \"position\": 1}, {\"embedding\": 0.12585683166980743, \"dimension\": 6, \"position\": 2}, {\"embedding\": 0.18815888464450836, \"dimension\": 6, \"position\": 3}, {\"embedding\": 0.24971213936805725, \"dimension\": 6, \"position\": 4}, {\"embedding\": 0.31027159094810486, \"dimension\": 6, \"position\": 5}, {\"embedding\": 0.3695962131023407, \"dimension\": 6, \"position\": 6}, {\"embedding\": 0.4274499714374542, \"dimension\": 6, \"position\": 7}, {\"embedding\": 0.4836025834083557, \"dimension\": 6, \"position\": 8}, {\"embedding\": 0.5378305912017822, \"dimension\": 6, \"position\": 9}, {\"embedding\": 0.5899181365966797, \"dimension\": 6, \"position\": 10}, {\"embedding\": 0.6396579146385193, \"dimension\": 6, \"position\": 11}, {\"embedding\": 0.6868520379066467, \"dimension\": 6, \"position\": 12}, {\"embedding\": 0.7313126921653748, \"dimension\": 6, \"position\": 13}, {\"embedding\": 0.7728629112243652, \"dimension\": 6, \"position\": 14}, {\"embedding\": 0.8113372921943665, \"dimension\": 6, \"position\": 15}, {\"embedding\": 0.8465827703475952, \"dimension\": 6, \"position\": 16}, {\"embedding\": 0.8784590363502502, \"dimension\": 6, \"position\": 17}, {\"embedding\": 0.9068393111228943, \"dimension\": 6, \"position\": 18}, {\"embedding\": 0.9316105246543884, \"dimension\": 6, \"position\": 19}, {\"embedding\": 0.9526742100715637, \"dimension\": 6, \"position\": 20}, {\"embedding\": 0.9699464440345764, \"dimension\": 6, \"position\": 21}, {\"embedding\": 0.9833585619926453, \"dimension\": 6, \"position\": 22}, {\"embedding\": 0.9928570985794067, \"dimension\": 6, \"position\": 23}, {\"embedding\": 0.9984043836593628, \"dimension\": 6, \"position\": 24}, {\"embedding\": 0.999978244304657, \"dimension\": 6, \"position\": 25}, {\"embedding\": 0.9975724220275879, \"dimension\": 6, \"position\": 26}, {\"embedding\": 0.9911965131759644, \"dimension\": 6, \"position\": 27}, {\"embedding\": 0.9808759093284607, \"dimension\": 6, \"position\": 28}, {\"embedding\": 0.9666516780853271, \"dimension\": 6, \"position\": 29}, {\"embedding\": 0.9485803842544556, \"dimension\": 6, \"position\": 30}, {\"embedding\": 0.9267339110374451, \"dimension\": 6, \"position\": 31}, {\"embedding\": 0.9011994004249573, \"dimension\": 6, \"position\": 32}, {\"embedding\": 0.8720782399177551, \"dimension\": 6, \"position\": 33}, {\"embedding\": 0.8394865393638611, \"dimension\": 6, \"position\": 34}, {\"embedding\": 0.8035537600517273, \"dimension\": 6, \"position\": 35}, {\"embedding\": 0.7644230127334595, \"dimension\": 6, \"position\": 36}, {\"embedding\": 0.7222501039505005, \"dimension\": 6, \"position\": 37}, {\"embedding\": 0.6772029399871826, \"dimension\": 6, \"position\": 38}, {\"embedding\": 0.6294605135917664, \"dimension\": 6, \"position\": 39}, {\"embedding\": 0.57921302318573, \"dimension\": 6, \"position\": 40}, {\"embedding\": 0.5266605615615845, \"dimension\": 6, \"position\": 41}, {\"embedding\": 0.4720119535923004, \"dimension\": 6, \"position\": 42}, {\"embedding\": 0.41548484563827515, \"dimension\": 6, \"position\": 43}, {\"embedding\": 0.3573042154312134, \"dimension\": 6, \"position\": 44}, {\"embedding\": 0.29770180583000183, \"dimension\": 6, \"position\": 45}, {\"embedding\": 0.23691439628601074, \"dimension\": 6, \"position\": 46}, {\"embedding\": 0.17518411576747894, \"dimension\": 6, \"position\": 47}, {\"embedding\": 0.1127568930387497, \"dimension\": 6, \"position\": 48}, {\"embedding\": 0.04988069087266922, \"dimension\": 6, \"position\": 49}, {\"embedding\": -0.013194027356803417, \"dimension\": 6, \"position\": 50}, {\"embedding\": -0.07621623575687408, \"dimension\": 6, \"position\": 51}, {\"embedding\": -0.1389348804950714, \"dimension\": 6, \"position\": 52}, {\"embedding\": -0.20110084116458893, \"dimension\": 6, \"position\": 53}, {\"embedding\": -0.2624664604663849, \"dimension\": 6, \"position\": 54}, {\"embedding\": -0.3227875530719757, \"dimension\": 6, \"position\": 55}, {\"embedding\": -0.3818237781524658, \"dimension\": 6, \"position\": 56}, {\"embedding\": -0.4393406808376312, \"dimension\": 6, \"position\": 57}, {\"embedding\": -0.49510911107063293, \"dimension\": 6, \"position\": 58}, {\"embedding\": -0.5489069223403931, \"dimension\": 6, \"position\": 59}, {\"embedding\": -0.6005204319953918, \"dimension\": 6, \"position\": 60}, {\"embedding\": -0.6497439742088318, \"dimension\": 6, \"position\": 61}, {\"embedding\": -0.6963817477226257, \"dimension\": 6, \"position\": 62}, {\"embedding\": -0.7402478456497192, \"dimension\": 6, \"position\": 63}, {\"embedding\": -0.7811681628227234, \"dimension\": 6, \"position\": 64}, {\"embedding\": -0.8189795017242432, \"dimension\": 6, \"position\": 65}, {\"embedding\": -0.8535317182540894, \"dimension\": 6, \"position\": 66}, {\"embedding\": -0.8846868872642517, \"dimension\": 6, \"position\": 67}, {\"embedding\": -0.9123212099075317, \"dimension\": 6, \"position\": 68}, {\"embedding\": -0.936324954032898, \"dimension\": 6, \"position\": 69}, {\"embedding\": -0.956602156162262, \"dimension\": 6, \"position\": 70}, {\"embedding\": -0.9730724096298218, \"dimension\": 6, \"position\": 71}, {\"embedding\": -0.9856699705123901, \"dimension\": 6, \"position\": 72}, {\"embedding\": -0.9943448305130005, \"dimension\": 6, \"position\": 73}, {\"embedding\": -0.9990625381469727, \"dimension\": 6, \"position\": 74}, {\"embedding\": -0.9998041391372681, \"dimension\": 6, \"position\": 75}, {\"embedding\": -0.9965668320655823, \"dimension\": 6, \"position\": 76}, {\"embedding\": -0.9893633723258972, \"dimension\": 6, \"position\": 77}, {\"embedding\": -0.9782225489616394, \"dimension\": 6, \"position\": 78}, {\"embedding\": -0.963188648223877, \"dimension\": 6, \"position\": 79}, {\"embedding\": -0.9443213939666748, \"dimension\": 6, \"position\": 80}, {\"embedding\": -0.9216960668563843, \"dimension\": 6, \"position\": 81}, {\"embedding\": -0.8954026699066162, \"dimension\": 6, \"position\": 82}, {\"embedding\": -0.8655455708503723, \"dimension\": 6, \"position\": 83}, {\"embedding\": -0.8322440981864929, \"dimension\": 6, \"position\": 84}, {\"embedding\": -0.795630156993866, \"dimension\": 6, \"position\": 85}, {\"embedding\": -0.7558501362800598, \"dimension\": 6, \"position\": 86}, {\"embedding\": -0.7130619883537292, \"dimension\": 6, \"position\": 87}, {\"embedding\": -0.6674357056617737, \"dimension\": 6, \"position\": 88}, {\"embedding\": -0.6191535592079163, \"dimension\": 6, \"position\": 89}, {\"embedding\": -0.5684073567390442, \"dimension\": 6, \"position\": 90}, {\"embedding\": -0.5153986215591431, \"dimension\": 6, \"position\": 91}, {\"embedding\": -0.46033912897109985, \"dimension\": 6, \"position\": 92}, {\"embedding\": -0.40344759821891785, \"dimension\": 6, \"position\": 93}, {\"embedding\": -0.3449500501155853, \"dimension\": 6, \"position\": 94}, {\"embedding\": -0.28508007526397705, \"dimension\": 6, \"position\": 95}, {\"embedding\": -0.22407560050487518, \"dimension\": 6, \"position\": 96}, {\"embedding\": -0.1621788740158081, \"dimension\": 6, \"position\": 97}, {\"embedding\": -0.09963719546794891, \"dimension\": 6, \"position\": 98}, {\"embedding\": -0.03669850528240204, \"dimension\": 6, \"position\": 99}, {\"embedding\": 1.0, \"dimension\": 7, \"position\": 0}, {\"embedding\": 0.9980100989341736, \"dimension\": 7, \"position\": 1}, {\"embedding\": 0.9920483827590942, \"dimension\": 7, \"position\": 2}, {\"embedding\": 0.9821385741233826, \"dimension\": 7, \"position\": 3}, {\"embedding\": 0.9683201313018799, \"dimension\": 7, \"position\": 4}, {\"embedding\": 0.9506479501724243, \"dimension\": 7, \"position\": 5}, {\"embedding\": 0.9291924834251404, \"dimension\": 7, \"position\": 6}, {\"embedding\": 0.9040390253067017, \"dimension\": 7, \"position\": 7}, {\"embedding\": 0.8752877116203308, \"dimension\": 7, \"position\": 8}, {\"embedding\": 0.8430529236793518, \"dimension\": 7, \"position\": 9}, {\"embedding\": 0.8074630498886108, \"dimension\": 7, \"position\": 10}, {\"embedding\": 0.7686597108840942, \"dimension\": 7, \"position\": 11}, {\"embedding\": 0.7267972826957703, \"dimension\": 7, \"position\": 12}, {\"embedding\": 0.6820423603057861, \"dimension\": 7, \"position\": 13}, {\"embedding\": 0.6345730423927307, \"dimension\": 7, \"position\": 14}, {\"embedding\": 0.5845783352851868, \"dimension\": 7, \"position\": 15}, {\"embedding\": 0.532257080078125, \"dimension\": 7, \"position\": 16}, {\"embedding\": 0.47781768441200256, \"dimension\": 7, \"position\": 17}, {\"embedding\": 0.4214765727519989, \"dimension\": 7, \"position\": 18}, {\"embedding\": 0.36345821619033813, \"dimension\": 7, \"position\": 19}, {\"embedding\": 0.30399325489997864, \"dimension\": 7, \"position\": 20}, {\"embedding\": 0.243318572640419, \"dimension\": 7, \"position\": 21}, {\"embedding\": 0.18167544901371002, \"dimension\": 7, \"position\": 22}, {\"embedding\": 0.11930941045284271, \"dimension\": 7, \"position\": 23}, {\"embedding\": 0.056468550115823746, \"dimension\": 7, \"position\": 24}, {\"embedding\": -0.006597157102078199, \"dimension\": 7, \"position\": 25}, {\"embedding\": -0.06963648647069931, \"dimension\": 7, \"position\": 26}, {\"embedding\": -0.1323987990617752, \"dimension\": 7, \"position\": 27}, {\"embedding\": -0.1946340948343277, \"dimension\": 7, \"position\": 28}, {\"embedding\": -0.25609490275382996, \"dimension\": 7, \"position\": 29}, {\"embedding\": -0.31653639674186707, \"dimension\": 7, \"position\": 30}, {\"embedding\": -0.37571826577186584, \"dimension\": 7, \"position\": 31}, {\"embedding\": -0.43340474367141724, \"dimension\": 7, \"position\": 32}, {\"embedding\": -0.4893665015697479, \"dimension\": 7, \"position\": 33}, {\"embedding\": -0.5433804988861084, \"dimension\": 7, \"position\": 34}, {\"embedding\": -0.5952321887016296, \"dimension\": 7, \"position\": 35}, {\"embedding\": -0.6447150111198425, \"dimension\": 7, \"position\": 36}, {\"embedding\": -0.6916319727897644, \"dimension\": 7, \"position\": 37}, {\"embedding\": -0.7357962727546692, \"dimension\": 7, \"position\": 38}, {\"embedding\": -0.7770324349403381, \"dimension\": 7, \"position\": 39}, {\"embedding\": -0.8151761889457703, \"dimension\": 7, \"position\": 40}, {\"embedding\": -0.8500756621360779, \"dimension\": 7, \"position\": 41}, {\"embedding\": -0.8815921545028687, \"dimension\": 7, \"position\": 42}, {\"embedding\": -0.9096000790596008, \"dimension\": 7, \"position\": 43}, {\"embedding\": -0.933988094329834, \"dimension\": 7, \"position\": 44}, {\"embedding\": -0.9546589255332947, \"dimension\": 7, \"position\": 45}, {\"embedding\": -0.971530556678772, \"dimension\": 7, \"position\": 46}, {\"embedding\": -0.9845356941223145, \"dimension\": 7, \"position\": 47}, {\"embedding\": -0.9936226010322571, \"dimension\": 7, \"position\": 48}, {\"embedding\": -0.998755156993866, \"dimension\": 7, \"position\": 49}, {\"embedding\": -0.9999129772186279, \"dimension\": 7, \"position\": 50}, {\"embedding\": -0.9970912933349609, \"dimension\": 7, \"position\": 51}, {\"embedding\": -0.9903014898300171, \"dimension\": 7, \"position\": 52}, {\"embedding\": -0.9795705676078796, \"dimension\": 7, \"position\": 53}, {\"embedding\": -0.964941143989563, \"dimension\": 7, \"position\": 54}, {\"embedding\": -0.9464714527130127, \"dimension\": 7, \"position\": 55}, {\"embedding\": -0.9242351651191711, \"dimension\": 7, \"position\": 56}, {\"embedding\": -0.8983205556869507, \"dimension\": 7, \"position\": 57}, {\"embedding\": -0.8688308000564575, \"dimension\": 7, \"position\": 58}, {\"embedding\": -0.8358834981918335, \"dimension\": 7, \"position\": 59}, {\"embedding\": -0.7996094226837158, \"dimension\": 7, \"position\": 60}, {\"embedding\": -0.7601531147956848, \"dimension\": 7, \"position\": 61}, {\"embedding\": -0.7176715731620789, \"dimension\": 7, \"position\": 62}, {\"embedding\": -0.6723340749740601, \"dimension\": 7, \"position\": 63}, {\"embedding\": -0.6243206262588501, \"dimension\": 7, \"position\": 64}, {\"embedding\": -0.5738227963447571, \"dimension\": 7, \"position\": 65}, {\"embedding\": -0.5210408568382263, \"dimension\": 7, \"position\": 66}, {\"embedding\": -0.46618568897247314, \"dimension\": 7, \"position\": 67}, {\"embedding\": -0.4094752371311188, \"dimension\": 7, \"position\": 68}, {\"embedding\": -0.3511347472667694, \"dimension\": 7, \"position\": 69}, {\"embedding\": -0.2913972735404968, \"dimension\": 7, \"position\": 70}, {\"embedding\": -0.23049965500831604, \"dimension\": 7, \"position\": 71}, {\"embedding\": -0.1686851680278778, \"dimension\": 7, \"position\": 72}, {\"embedding\": -0.10619935393333435, \"dimension\": 7, \"position\": 73}, {\"embedding\": -0.04329042136669159, \"dimension\": 7, \"position\": 74}, {\"embedding\": 0.019790323451161385, \"dimension\": 7, \"position\": 75}, {\"embedding\": 0.08279230445623398, \"dimension\": 7, \"position\": 76}, {\"embedding\": 0.14546526968479156, \"dimension\": 7, \"position\": 77}, {\"embedding\": 0.20755885541439056, \"dimension\": 7, \"position\": 78}, {\"embedding\": 0.2688263952732086, \"dimension\": 7, \"position\": 79}, {\"embedding\": 0.3290245532989502, \"dimension\": 7, \"position\": 80}, {\"embedding\": 0.3879128098487854, \"dimension\": 7, \"position\": 81}, {\"embedding\": 0.4452572762966156, \"dimension\": 7, \"position\": 82}, {\"embedding\": 0.5008301138877869, \"dimension\": 7, \"position\": 83}, {\"embedding\": 0.5544094443321228, \"dimension\": 7, \"position\": 84}, {\"embedding\": 0.605782687664032, \"dimension\": 7, \"position\": 85}, {\"embedding\": 0.6547446846961975, \"dimension\": 7, \"position\": 86}, {\"embedding\": 0.7011010050773621, \"dimension\": 7, \"position\": 87}, {\"embedding\": 0.7446674108505249, \"dimension\": 7, \"position\": 88}, {\"embedding\": 0.7852699160575867, \"dimension\": 7, \"position\": 89}, {\"embedding\": 0.8227472901344299, \"dimension\": 7, \"position\": 90}, {\"embedding\": 0.856950581073761, \"dimension\": 7, \"position\": 91}, {\"embedding\": 0.8877431154251099, \"dimension\": 7, \"position\": 92}, {\"embedding\": 0.9150027632713318, \"dimension\": 7, \"position\": 93}, {\"embedding\": 0.9386210441589355, \"dimension\": 7, \"position\": 94}, {\"embedding\": 0.9585037231445312, \"dimension\": 7, \"position\": 95}, {\"embedding\": 0.9745717644691467, \"dimension\": 7, \"position\": 96}, {\"embedding\": 0.9867613911628723, \"dimension\": 7, \"position\": 97}, {\"embedding\": 0.9950238466262817, \"dimension\": 7, \"position\": 98}, {\"embedding\": 0.9993264079093933, \"dimension\": 7, \"position\": 99}]}}, {\"mode\": \"vega-lite\"});\n",
              "</script>"
            ],
            "text/plain": [
              "alt.Chart(...)"
            ]
          },
          "metadata": {},
          "execution_count": 18
        }
      ]
    },
    {
      "cell_type": "markdown",
      "source": [
        "### 1.3.3 Attention function"
      ],
      "metadata": {
        "id": "GmQPXJKaBKog"
      }
    },
    {
      "cell_type": "markdown",
      "source": [
        "- $Attention(Q, K, V) = \\frac{softmax({Q.K^T})}{\\sqrt{d_k}} V$\n",
        "\n",
        "![image.png](data:image/png;base64,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)"
      ],
      "metadata": {
        "id": "tiFMwixfBT8Q"
      }
    },
    {
      "cell_type": "code",
      "source": [
        "def attention(query, key, value, mask=None, dropout=None):\n",
        "    \"Compute 'Scaled Dot Product Attention'\"\n",
        "    d_k = query.size(-1)\n",
        "    scores = torch.matmul(query, key.transpose(-2, -1)) / math.sqrt(d_k)\n",
        "    if mask is not None:\n",
        "        scores = scores.masked_fill(mask == 0, -1e9)\n",
        "    p_attn = scores.softmax(dim=-1)\n",
        "    if dropout is not None:\n",
        "        p_attn = dropout(p_attn)\n",
        "    return torch.matmul(p_attn, value), p_attn"
      ],
      "metadata": {
        "id": "c3Or6ik0BPpW"
      },
      "execution_count": 19,
      "outputs": []
    },
    {
      "cell_type": "markdown",
      "source": [
        "### 1.3.4 Multihead Attention"
      ],
      "metadata": {
        "id": "kD-JPe6pD7RE"
      }
    },
    {
      "cell_type": "markdown",
      "source": [
        "- $MultiHead(Q, K, V) = Concat(head1, ..., head_h)W^o$\n",
        "\n",
        " where $head_i = Attention(QW_i^Q, KW_i^K, VW_i^V)$ </center>"
      ],
      "metadata": {
        "id": "tCz-cy9rEYG1"
      }
    },
    {
      "cell_type": "code",
      "source": [
        "class MultiHeadedAttention(nn.Module):\n",
        "    def __init__(self, h, d_model, dropout=0.1):\n",
        "        \"Take in model size and number of heads.\"\n",
        "        super(MultiHeadedAttention, self).__init__()\n",
        "        assert d_model % h == 0\n",
        "        # We assume d_v always equals d_k\n",
        "        self.d_k = d_model // h\n",
        "        self.h = h\n",
        "        self.linears = clones(nn.Linear(d_model, d_model), 4)\n",
        "        self.attn = None\n",
        "        self.dropout = nn.Dropout(p=dropout)\n",
        "\n",
        "    def forward(self, query, key, value, mask=None):\n",
        "        if mask is not None:\n",
        "            # Same mask applied to all h heads.\n",
        "            mask = mask.unsqueeze(1)\n",
        "        nbatches = query.size(0)\n",
        "\n",
        "        # 1) Do all the linear projections in batch from d_model => h x d_k\n",
        "        query, key, value = [\n",
        "            lin(x).view(nbatches, -1, self.h, self.d_k).transpose(1, 2)\n",
        "            for lin, x in zip(self.linears, (query, key, value))\n",
        "        ]\n",
        "\n",
        "        # 2) Apply attention on all the projected vectors in batch.\n",
        "        x, self.attn = attention(\n",
        "            query, key, value, mask=mask, dropout=self.dropout\n",
        "        )\n",
        "\n",
        "        # 3) \"Concat\" using a view and apply a final linear.\n",
        "        x = (\n",
        "            x.transpose(1, 2)\n",
        "            .contiguous()\n",
        "            .view(nbatches, -1, self.h * self.d_k)\n",
        "        )\n",
        "        del query\n",
        "        del key\n",
        "        del value\n",
        "        return self.linears[-1](x)"
      ],
      "metadata": {
        "id": "X1ycjxphEBVY"
      },
      "execution_count": 20,
      "outputs": []
    },
    {
      "cell_type": "markdown",
      "source": [
        "### 1.3.5 Position-wise Feed-Forward "
      ],
      "metadata": {
        "id": "GAjiinlYI3oP"
      }
    },
    {
      "cell_type": "markdown",
      "source": [
        "- $FFN(x) = max(0, xW_1 + b_1)W_2 + b_2 $ "
      ],
      "metadata": {
        "id": "AYbb1uZaI_7c"
      }
    },
    {
      "cell_type": "code",
      "source": [
        "class PositionwiseFeedForward(nn.Module):\n",
        "    \"Implements FFN equation.\"\n",
        "\n",
        "    def __init__(self, d_model, d_ff, dropout=0.1):\n",
        "        super(PositionwiseFeedForward, self).__init__()\n",
        "        self.w_1 = nn.Linear(d_model, d_ff)\n",
        "        self.w_2 = nn.Linear(d_ff, d_model)\n",
        "        self.dropout = nn.Dropout(dropout)\n",
        "\n",
        "    def forward(self, x):\n",
        "        return self.w_2(self.dropout(self.w_1(x).relu()))"
      ],
      "metadata": {
        "id": "kYGIAOosI-xs"
      },
      "execution_count": 21,
      "outputs": []
    },
    {
      "cell_type": "markdown",
      "source": [
        "## 1.4 Full model"
      ],
      "metadata": {
        "id": "J5A7eLI7Kvev"
      }
    },
    {
      "cell_type": "markdown",
      "source": [
        "- Hàm tạo ra model từ các siêu tham số"
      ],
      "metadata": {
        "id": "_wmkHxJkLcb4"
      }
    },
    {
      "cell_type": "code",
      "source": [
        "def make_model(\n",
        "    src_vocab, tgt_vocab, N=6, d_model=512, d_ff=2048, h=8, dropout=0.1\n",
        "):\n",
        "    \"Helper: Construct a model from hyperparameters.\"\n",
        "    c = copy.deepcopy\n",
        "    attn = MultiHeadedAttention(h, d_model)\n",
        "    ff = PositionwiseFeedForward(d_model, d_ff, dropout)\n",
        "    position = PositionalEncoding(d_model, dropout)\n",
        "    model = EncoderDecoder(\n",
        "        Encoder(EncoderLayer(d_model, c(attn), c(ff), dropout), N),\n",
        "        Decoder(DecoderLayer(d_model, c(attn), c(attn), c(ff), dropout), N),\n",
        "        nn.Sequential(Embeddings(d_model, src_vocab), c(position)),\n",
        "        nn.Sequential(Embeddings(d_model, tgt_vocab), c(position)),\n",
        "        Generator(d_model, tgt_vocab),\n",
        "    )\n",
        "\n",
        "    for p in model.parameters():\n",
        "        if p.dim() > 1:\n",
        "            nn.init.xavier_uniform_(p)\n",
        "    return model"
      ],
      "metadata": {
        "id": "0yPPY_4SLfjr"
      },
      "execution_count": 22,
      "outputs": []
    },
    {
      "cell_type": "markdown",
      "source": [
        "## 1.5 Inference"
      ],
      "metadata": {
        "id": "ugUSFGyuNnjz"
      }
    },
    {
      "cell_type": "code",
      "source": [
        "def inference_test():\n",
        "    test_model = make_model(11, 11, 2)\n",
        "    test_model.eval()\n",
        "    src = torch.LongTensor([[1, 2, 3, 4, 5, 6, 7, 8, 9, 10]])\n",
        "    src_mask = torch.ones(1, 1, 10)\n",
        "\n",
        "    memory = test_model.encode(src, src_mask)\n",
        "    ys = torch.zeros(1, 1).type_as(src)\n",
        "\n",
        "    for i in range(9):\n",
        "        out = test_model.decode(\n",
        "            memory, src_mask, ys, subsequent_mask(ys.size(1)).type_as(src.data)\n",
        "        )\n",
        "        prob = test_model.generator(out[:, -1])\n",
        "        _, next_word = torch.max(prob, dim=1)\n",
        "        next_word = next_word.data[0]\n",
        "        ys = torch.cat(\n",
        "            [ys, torch.empty(1, 1).type_as(src.data).fill_(next_word)], dim=1\n",
        "        )\n",
        "\n",
        "    print(\"Example Untrained Model Prediction:\", ys)\n",
        "\n",
        "\n",
        "def run_tests():\n",
        "    for _ in range(10):\n",
        "        inference_test()\n",
        "\n",
        "\n",
        "show_example(run_tests)"
      ],
      "metadata": {
        "colab": {
          "base_uri": "https://localhost:8080/"
        },
        "id": "0HkJA-9hNqyA",
        "outputId": "d9a81d02-9daf-48e5-a8f6-953d560efb0d"
      },
      "execution_count": 23,
      "outputs": [
        {
          "output_type": "stream",
          "name": "stdout",
          "text": [
            "Example Untrained Model Prediction: tensor([[0, 0, 0, 0, 0, 0, 0, 0, 0, 0]])\n",
            "Example Untrained Model Prediction: tensor([[0, 6, 6, 6, 6, 6, 7, 7, 7, 7]])\n",
            "Example Untrained Model Prediction: tensor([[0, 7, 0, 0, 0, 0, 7, 0, 7, 0]])\n",
            "Example Untrained Model Prediction: tensor([[ 0,  3,  8,  7, 10,  7, 10,  7, 10,  7]])\n",
            "Example Untrained Model Prediction: tensor([[0, 3, 8, 5, 6, 3, 8, 6, 6, 6]])\n",
            "Example Untrained Model Prediction: tensor([[ 0,  3,  5, 10,  5, 10,  5, 10,  5, 10]])\n",
            "Example Untrained Model Prediction: tensor([[0, 8, 2, 8, 2, 8, 1, 8, 1, 8]])\n",
            "Example Untrained Model Prediction: tensor([[0, 7, 1, 8, 1, 8, 1, 8, 7, 1]])\n",
            "Example Untrained Model Prediction: tensor([[0, 3, 9, 3, 9, 3, 9, 3, 9, 3]])\n",
            "Example Untrained Model Prediction: tensor([[0, 5, 6, 6, 6, 6, 5, 6, 6, 5]])\n"
          ]
        }
      ]
    },
    {
      "cell_type": "markdown",
      "source": [
        "# 2.Model Training"
      ],
      "metadata": {
        "id": "F3yheY4CMGBl"
      }
    },
    {
      "cell_type": "markdown",
      "source": [
        "## Batches and Masking"
      ],
      "metadata": {
        "id": "9LjKyJ1cMKuH"
      }
    },
    {
      "cell_type": "code",
      "source": [
        "class Batch:\n",
        "    \"\"\"Object for holding a batch of data with mask during training.\"\"\"\n",
        "\n",
        "    def __init__(self, src, tgt=None, pad=2):  # 2 = <blank>\n",
        "        self.src = src\n",
        "        self.src_mask = (src != pad).unsqueeze(-2)\n",
        "        if tgt is not None:\n",
        "            self.tgt = tgt[:, :-1]\n",
        "            self.tgt_y = tgt[:, 1:]\n",
        "            self.tgt_mask = self.make_std_mask(self.tgt, pad)\n",
        "            self.ntokens = (self.tgt_y != pad).data.sum()\n",
        "\n",
        "    @staticmethod\n",
        "    def make_std_mask(tgt, pad):\n",
        "        \"Create a mask to hide padding and future words.\"\n",
        "        tgt_mask = (tgt != pad).unsqueeze(-2)\n",
        "        tgt_mask = tgt_mask & subsequent_mask(tgt.size(-1)).type_as(\n",
        "            tgt_mask.data\n",
        "        )\n",
        "        return tgt_mask"
      ],
      "metadata": {
        "id": "OB0Qzi5NfZ4E"
      },
      "execution_count": 24,
      "outputs": []
    },
    {
      "cell_type": "markdown",
      "source": [
        "## Loss Computation"
      ],
      "metadata": {
        "id": "s3NZWGG1utuG"
      }
    },
    {
      "cell_type": "code",
      "source": [
        "class SimpleLossCompute:\n",
        "    \"A simple loss compute and train function.\"\n",
        "\n",
        "    def __init__(self, generator, criterion):\n",
        "        self.generator = generator\n",
        "        self.criterion = criterion\n",
        "\n",
        "    def __call__(self, x, y, norm):\n",
        "        x = self.generator(x)\n",
        "        sloss = (\n",
        "            self.criterion(\n",
        "                x.contiguous().view(-1, x.size(-1)), y.contiguous().view(-1)\n",
        "            )\n",
        "            / norm\n",
        "        )\n",
        "        return sloss.data * norm, sloss"
      ],
      "metadata": {
        "id": "K7FZ9VZ1u06F"
      },
      "execution_count": 30,
      "outputs": []
    },
    {
      "cell_type": "markdown",
      "source": [
        "## Training Loop"
      ],
      "metadata": {
        "id": "bFbwZiZshaZ0"
      }
    },
    {
      "cell_type": "code",
      "source": [
        "class TrainState:\n",
        "    \"\"\"Track number of steps, examples, and tokens processed\"\"\"\n",
        "\n",
        "    step: int = 0  # Steps in the current epoch\n",
        "    accum_step: int = 0  # Number of gradient accumulation steps\n",
        "    samples: int = 0  # total # of examples used\n",
        "    tokens: int = 0  # total # of tokens processed"
      ],
      "metadata": {
        "id": "ScxBzCSpiEJ1"
      },
      "execution_count": 25,
      "outputs": []
    },
    {
      "cell_type": "code",
      "source": [
        "def run_epoch(\n",
        "    data_iter,\n",
        "    model,\n",
        "    loss_compute,\n",
        "    optimizer,\n",
        "    scheduler,\n",
        "    mode=\"train\",\n",
        "    accum_iter = 1,\n",
        "    train_state = TrainState(),\n",
        "):\n",
        "    \"\"\"Train a single epoch\"\"\"\n",
        "    start = time.time()\n",
        "    total_tokens = 0\n",
        "    total_loss = 0\n",
        "    tokens = 0\n",
        "    n_accum = 0\n",
        "    for i, batch in enumerate(data_iter):\n",
        "        out = model.forward(batch.src, batch.tgt, batch.src_mask, batch.tgt_mask)\n",
        "        loss, loss_node = loss_compute(out, batch.tgt_y, batch.ntokens)\n",
        "        # loss_node = loss_node / accum_iter\n",
        "\n",
        "        if mode==\"train\" or mode==\"train+log\":\n",
        "            loss_node.backward()\n",
        "            train_state.step += 1\n",
        "            train_state.samples += batch.src.shape[0]\n",
        "            train_state.tokens += batch.ntokens\n",
        "            if i % accum_iter == 0:\n",
        "                optimizer.step()\n",
        "                optimizer.zero_grad(set_to_none=True)\n",
        "                n_accum += 1\n",
        "                train_state.accum_step += 1\n",
        "            scheduler.step()\n",
        "\n",
        "        total_loss += loss\n",
        "        total_tokens += batch.ntokens\n",
        "        tokens += batch.ntokens\n",
        "\n",
        "        if i%40==1 and (mode ==\"train\" or mode==\"train+log\"):\n",
        "              lr = optimizer.param_groups[0][\"lr\"]\n",
        "              elapse = time.time() - start\n",
        "              print(\n",
        "                  (\n",
        "                      \"Epoch Step: %6d | Accumulation Step: %3d | Loss: %6.2f\" \n",
        "                   + \"| Tokens/Sec: %7.1f | Learning Rate: %6.1e\"\n",
        "                  )\n",
        "                   % (i, n_accum, loss/batch.ntokens, tokens/elapse, lr)\n",
        "              )\n",
        "              start = time.time()\n",
        "              tokens = 0\n",
        "        del loss\n",
        "        del loss_node\n",
        "    return  total_loss / total_tokens, train_state \n"
      ],
      "metadata": {
        "id": "T9NVom6zi95a"
      },
      "execution_count": 26,
      "outputs": []
    },
    {
      "cell_type": "markdown",
      "source": [
        "## Training data and Batching"
      ],
      "metadata": {
        "id": "z82SPdXqmkOq"
      }
    },
    {
      "cell_type": "markdown",
      "source": [
        "- Chúng ta sử dụng Adam optimizer với tham số $\\beta_1 = 0.9$, $\\beta_2 = 0.98$ và $\\epsilon = 10^{-9}$\n",
        "\n",
        "Công thức update Lr như sau:\n",
        "\n",
        "- $lrate = d_{model}^{-0.5}. min(step\\_num^{-0.5}, step\\_num. warming\\_steps^{-1.5})$ "
      ],
      "metadata": {
        "id": "qXpk7uEym2vV"
      }
    },
    {
      "cell_type": "code",
      "source": [
        "def rate(step, model_size, factor, warmup):\n",
        "    \"We have to default the step to 1 for LabmdaLR function to avoid zero raising\"\n",
        "    if step == 0:\n",
        "        step = 1\n",
        "    return factor * (\n",
        "        model_size ** (-0.5) * min(step ** (-0.5), step * warmup ** (-1.5))\n",
        "    )"
      ],
      "metadata": {
        "id": "S1ei-TILmjMX"
      },
      "execution_count": 27,
      "outputs": []
    },
    {
      "cell_type": "markdown",
      "source": [
        "## Regularization"
      ],
      "metadata": {
        "id": "s29gOlOEo6y3"
      }
    },
    {
      "cell_type": "markdown",
      "source": [
        "- Label smoothing\n",
        "\n",
        "- In the paper, the author used Kullback-Leibert div loss"
      ],
      "metadata": {
        "id": "OFSufygUo-jR"
      }
    },
    {
      "cell_type": "code",
      "source": [
        "class LabelSmoothing(nn.Module):\n",
        "\n",
        "    def __init__(self, size, padding_idx, smoothing=0.0):\n",
        "        super(LabelSmoothing, self).__init__()\n",
        "        self.criterion = nn.KLDivLoss(reduction=\"sum\")\n",
        "        self.padding_idx = padding_idx\n",
        "        self.confidence  = 1.0 - smoothing\n",
        "        self.smoothing = smoothing\n",
        "        self.size = size\n",
        "        self.true_dist = None\n",
        "\n",
        "    def forward(self, x, target):\n",
        "        \"X is the mattrix with the shape of ()\"\n",
        "\n",
        "        assert x.size(1) == self.size\n",
        "        true_dist = x.data.clone()\n",
        "        true_dist.fill_(self.smoothing / (self.size - 2))\n",
        "        true_dist.scatter_(1, target.data.unsqueeze(1), self.confidence)\n",
        "        true_dist[:, self.padding_idx] = 0\n",
        "        mask = torch.nonzero(target.data == self.padding_idx)\n",
        "        if mask.dim() > 0:\n",
        "            true_dist.index_fill_(0, mask.squeeze(), 0.0)\n",
        "        self.true_dist = true_dist\n",
        "        \n",
        "        return self.criterion(x, true_dist.clone().detach()) "
      ],
      "metadata": {
        "id": "i7QHi5edo3oj"
      },
      "execution_count": 28,
      "outputs": []
    },
    {
      "cell_type": "code",
      "source": [
        "#@title Example of LabelSmoothing\n",
        "# Example of label smoothing.\n",
        "\n",
        "\n",
        "def example_label_smoothing():\n",
        "    crit = LabelSmoothing(5, 0, 0.4)\n",
        "    predict = torch.FloatTensor(\n",
        "        [\n",
        "            [0, 0.2, 0.7, 0.1, 0],\n",
        "            [0, 0.2, 0.7, 0.1, 0],\n",
        "            [0, 0.2, 0.7, 0.1, 0],\n",
        "            [0, 0.2, 0.7, 0.1, 0],\n",
        "            [0, 0.2, 0.7, 0.1, 0],\n",
        "        ]\n",
        "    )\n",
        "    crit(x=predict.log(), target=torch.LongTensor([2, 1, 0, 3, 3]))\n",
        "    LS_data = pd.concat(\n",
        "        [\n",
        "            pd.DataFrame(\n",
        "                {\n",
        "                    \"target distribution\": crit.true_dist[x, y].flatten(),\n",
        "                    \"columns\": y,\n",
        "                    \"rows\": x,\n",
        "                }\n",
        "            )\n",
        "            for y in range(5)\n",
        "            for x in range(5)\n",
        "        ]\n",
        "    )\n",
        "\n",
        "    return (\n",
        "        alt.Chart(LS_data)\n",
        "        .mark_rect(color=\"Blue\", opacity=1)\n",
        "        .properties(height=200, width=200)\n",
        "        .encode(\n",
        "            alt.X(\"columns:O\", title=None),\n",
        "            alt.Y(\"rows:O\", title=None),\n",
        "            alt.Color(\n",
        "                \"target distribution:Q\", scale=alt.Scale(scheme=\"viridis\")\n",
        "            ),\n",
        "        )\n",
        "        .interactive()\n",
        "    )\n",
        "\n",
        "\n",
        "show_example(example_label_smoothing)"
      ],
      "metadata": {
        "colab": {
          "base_uri": "https://localhost:8080/",
          "height": 247
        },
        "cellView": "form",
        "id": "Dlke8tArsFiv",
        "outputId": "b72b37fc-9822-4291-c333-364eb18a8144"
      },
      "execution_count": 29,
      "outputs": [
        {
          "output_type": "execute_result",
          "data": {
            "text/html": [
              "\n",
              "<div id=\"altair-viz-3948ce3fa69249fb9d51b1fd432e9635\"></div>\n",
              "<script type=\"text/javascript\">\n",
              "  var VEGA_DEBUG = (typeof VEGA_DEBUG == \"undefined\") ? {} : VEGA_DEBUG;\n",
              "  (function(spec, embedOpt){\n",
              "    let outputDiv = document.currentScript.previousElementSibling;\n",
              "    if (outputDiv.id !== \"altair-viz-3948ce3fa69249fb9d51b1fd432e9635\") {\n",
              "      outputDiv = document.getElementById(\"altair-viz-3948ce3fa69249fb9d51b1fd432e9635\");\n",
              "    }\n",
              "    const paths = {\n",
              "      \"vega\": \"https://cdn.jsdelivr.net/npm//vega@5?noext\",\n",
              "      \"vega-lib\": \"https://cdn.jsdelivr.net/npm//vega-lib?noext\",\n",
              "      \"vega-lite\": \"https://cdn.jsdelivr.net/npm//vega-lite@4.17.0?noext\",\n",
              "      \"vega-embed\": \"https://cdn.jsdelivr.net/npm//vega-embed@6?noext\",\n",
              "    };\n",
              "\n",
              "    function maybeLoadScript(lib, version) {\n",
              "      var key = `${lib.replace(\"-\", \"\")}_version`;\n",
              "      return (VEGA_DEBUG[key] == version) ?\n",
              "        Promise.resolve(paths[lib]) :\n",
              "        new Promise(function(resolve, reject) {\n",
              "          var s = document.createElement('script');\n",
              "          document.getElementsByTagName(\"head\")[0].appendChild(s);\n",
              "          s.async = true;\n",
              "          s.onload = () => {\n",
              "            VEGA_DEBUG[key] = version;\n",
              "            return resolve(paths[lib]);\n",
              "          };\n",
              "          s.onerror = () => reject(`Error loading script: ${paths[lib]}`);\n",
              "          s.src = paths[lib];\n",
              "        });\n",
              "    }\n",
              "\n",
              "    function showError(err) {\n",
              "      outputDiv.innerHTML = `<div class=\"error\" style=\"color:red;\">${err}</div>`;\n",
              "      throw err;\n",
              "    }\n",
              "\n",
              "    function displayChart(vegaEmbed) {\n",
              "      vegaEmbed(outputDiv, spec, embedOpt)\n",
              "        .catch(err => showError(`Javascript Error: ${err.message}<br>This usually means there's a typo in your chart specification. See the javascript console for the full traceback.`));\n",
              "    }\n",
              "\n",
              "    if(typeof define === \"function\" && define.amd) {\n",
              "      requirejs.config({paths});\n",
              "      require([\"vega-embed\"], displayChart, err => showError(`Error loading script: ${err.message}`));\n",
              "    } else {\n",
              "      maybeLoadScript(\"vega\", \"5\")\n",
              "        .then(() => maybeLoadScript(\"vega-lite\", \"4.17.0\"))\n",
              "        .then(() => maybeLoadScript(\"vega-embed\", \"6\"))\n",
              "        .catch(showError)\n",
              "        .then(() => displayChart(vegaEmbed));\n",
              "    }\n",
              "  })({\"config\": {\"view\": {\"continuousWidth\": 400, \"continuousHeight\": 300}}, \"data\": {\"name\": \"data-657da60f13fd21ce0024d47b52e08641\"}, \"mark\": {\"type\": \"rect\", \"color\": \"Blue\", \"opacity\": 1}, \"encoding\": {\"color\": {\"field\": \"target distribution\", \"scale\": {\"scheme\": \"viridis\"}, \"type\": \"quantitative\"}, \"x\": {\"field\": \"columns\", \"title\": null, \"type\": \"ordinal\"}, \"y\": {\"field\": \"rows\", \"title\": null, \"type\": \"ordinal\"}}, \"height\": 200, \"selection\": {\"selector003\": {\"type\": \"interval\", \"bind\": \"scales\", \"encodings\": [\"x\", \"y\"]}}, \"width\": 200, \"$schema\": \"https://vega.github.io/schema/vega-lite/v4.17.0.json\", \"datasets\": {\"data-657da60f13fd21ce0024d47b52e08641\": [{\"target distribution\": 0.0, \"columns\": 0, \"rows\": 0}, {\"target distribution\": 0.0, \"columns\": 0, \"rows\": 1}, {\"target distribution\": 0.0, \"columns\": 0, \"rows\": 2}, {\"target distribution\": 0.0, \"columns\": 0, \"rows\": 3}, {\"target distribution\": 0.0, \"columns\": 0, \"rows\": 4}, {\"target distribution\": 0.13333334028720856, \"columns\": 1, \"rows\": 0}, {\"target distribution\": 0.6000000238418579, \"columns\": 1, \"rows\": 1}, {\"target distribution\": 0.0, \"columns\": 1, \"rows\": 2}, {\"target distribution\": 0.13333334028720856, \"columns\": 1, \"rows\": 3}, {\"target distribution\": 0.13333334028720856, \"columns\": 1, \"rows\": 4}, {\"target distribution\": 0.6000000238418579, \"columns\": 2, \"rows\": 0}, {\"target distribution\": 0.13333334028720856, \"columns\": 2, \"rows\": 1}, {\"target distribution\": 0.0, \"columns\": 2, \"rows\": 2}, {\"target distribution\": 0.13333334028720856, \"columns\": 2, \"rows\": 3}, {\"target distribution\": 0.13333334028720856, \"columns\": 2, \"rows\": 4}, {\"target distribution\": 0.13333334028720856, \"columns\": 3, \"rows\": 0}, {\"target distribution\": 0.13333334028720856, \"columns\": 3, \"rows\": 1}, {\"target distribution\": 0.0, \"columns\": 3, \"rows\": 2}, {\"target distribution\": 0.6000000238418579, \"columns\": 3, \"rows\": 3}, {\"target distribution\": 0.6000000238418579, \"columns\": 3, \"rows\": 4}, {\"target distribution\": 0.13333334028720856, \"columns\": 4, \"rows\": 0}, {\"target distribution\": 0.13333334028720856, \"columns\": 4, \"rows\": 1}, {\"target distribution\": 0.0, \"columns\": 4, \"rows\": 2}, {\"target distribution\": 0.13333334028720856, \"columns\": 4, \"rows\": 3}, {\"target distribution\": 0.13333334028720856, \"columns\": 4, \"rows\": 4}]}}, {\"mode\": \"vega-lite\"});\n",
              "</script>"
            ],
            "text/plain": [
              "alt.Chart(...)"
            ]
          },
          "metadata": {},
          "execution_count": 29
        }
      ]
    },
    {
      "cell_type": "markdown",
      "source": [
        "# 3.Machine Translation"
      ],
      "metadata": {
        "id": "EU_Zy9dMHC70"
      }
    },
    {
      "cell_type": "markdown",
      "source": [
        "## 3.1 Data downloading"
      ],
      "metadata": {
        "id": "wZr2pCyaInzx"
      }
    },
    {
      "cell_type": "markdown",
      "source": [
        "- Chúng ta sẽ load tập data là các cặp (str, str) = (tiếng Anh, tiếng Đức) bằng torchtext và sử dụng spacy để tokenize"
      ],
      "metadata": {
        "id": "LNMXg15JLQbo"
      }
    },
    {
      "cell_type": "code",
      "source": [
        "def load_tokenizers():\n",
        "\n",
        "    try:\n",
        "        spacy_de = spacy.load(\"de_core_news_sm\")\n",
        "    except IOError:\n",
        "        os.system(\"python -m spacy download de_core_news_sm\")\n",
        "        spacy_de = spacy.load(\"de_core_news_sm\")\n",
        "\n",
        "    try:\n",
        "        spacy_en = spacy.load(\"en_core_web_sm\")\n",
        "    except IOError:\n",
        "        os.system(\"python -m spacy download en_core_web_sm\")\n",
        "        spacy_en = spacy.load(\"en_core_web_sm\")\n",
        "\n",
        "    return spacy_de, spacy_en"
      ],
      "metadata": {
        "id": "wQMcI8NGHfTe"
      },
      "execution_count": 31,
      "outputs": []
    },
    {
      "cell_type": "code",
      "source": [
        "def tokenize(text, tokenizer):\n",
        "    return [tok.text for tok in tokenizer.tokenizer(text)]\n",
        "\n",
        "\n",
        "def yield_tokens(data_iter, tokenizer, index):\n",
        "    for from_to_tuple in data_iter:\n",
        "        yield tokenizer(from_to_tuple[index])"
      ],
      "metadata": {
        "id": "MzbL6VTOIu4W"
      },
      "execution_count": 32,
      "outputs": []
    },
    {
      "cell_type": "code",
      "source": [
        "def build_vocabulary(spacy_de, spacy_en):\n",
        "    def tokenize_de(text):\n",
        "        return tokenize(text, spacy_de)\n",
        "\n",
        "    def tokenize_en(text):\n",
        "        return tokenize(text, spacy_en)\n",
        "\n",
        "    print(\"Building German Vocabulary ...\")\n",
        "    train, val, test = datasets.Multi30k(language_pair=(\"de\", \"en\"))\n",
        "    vocab_src = build_vocab_from_iterator(\n",
        "        yield_tokens(train + val + test, tokenize_de, index=0),\n",
        "        min_freq=2,\n",
        "        specials=[\"<s>\", \"</s>\", \"<blank>\", \"<unk>\"],\n",
        "    )\n",
        "\n",
        "    print(\"Building English Vocabulary ...\")\n",
        "    train, val, test = datasets.Multi30k(language_pair=(\"de\", \"en\"))\n",
        "    vocab_tgt = build_vocab_from_iterator(\n",
        "        yield_tokens(train + val + test, tokenize_en, index=1),\n",
        "        min_freq=2,\n",
        "        specials=[\"<s>\", \"</s>\", \"<blank>\", \"<unk>\"],\n",
        "    )\n",
        "\n",
        "    vocab_src.set_default_index(vocab_src[\"<unk>\"])\n",
        "    vocab_tgt.set_default_index(vocab_tgt[\"<unk>\"])\n",
        "\n",
        "    return vocab_src, vocab_tgt"
      ],
      "metadata": {
        "id": "SEFfMN-iRbFU"
      },
      "execution_count": 33,
      "outputs": []
    },
    {
      "cell_type": "code",
      "source": [
        "def load_vocab(spacy_de, spacy_en):\n",
        "    if not exists(\"vocab.pt\"):\n",
        "        vocab_src, vocab_tgt = build_vocabulary(spacy_de, spacy_en)\n",
        "        torch.save((vocab_src, vocab_tgt), \"vocab.pt\")\n",
        "    else:\n",
        "        vocab_src, vocab_tgt = torch.load(\"vocab.pt\")\n",
        "    print(\"Finished.\\nVocabulary sizes:\")\n",
        "    print(len(vocab_src))\n",
        "    print(len(vocab_tgt))\n",
        "    return vocab_src, vocab_tgt\n",
        "\n",
        "\n",
        "spacy_de, spacy_en = show_example(load_tokenizers)\n",
        "vocab_src, vocab_tgt = show_example(load_vocab, args=[spacy_de, spacy_en])"
      ],
      "metadata": {
        "colab": {
          "base_uri": "https://localhost:8080/"
        },
        "id": "9gyjzINoR8V7",
        "outputId": "b0fc9670-22d8-4126-c46f-9d6e0213c037"
      },
      "execution_count": 34,
      "outputs": [
        {
          "output_type": "stream",
          "name": "stdout",
          "text": [
            "Building German Vocabulary ...\n",
            "Building English Vocabulary ...\n",
            "Finished.\n",
            "Vocabulary sizes:\n",
            "8315\n",
            "6384\n"
          ]
        }
      ]
    },
    {
      "cell_type": "markdown",
      "source": [
        "## 3.2 Iterators"
      ],
      "metadata": {
        "id": "C2SUdN2iTqly"
      }
    },
    {
      "cell_type": "code",
      "source": [
        "def collate_batch(\n",
        "    batch,\n",
        "    src_pipeline,\n",
        "    tgt_pipeline,\n",
        "    src_vocab,\n",
        "    tgt_vocab,\n",
        "    device,\n",
        "    max_padding=128,\n",
        "    pad_id=2,\n",
        "):\n",
        "    bs_id = torch.tensor([0], device=device)  # <s> token id\n",
        "    eos_id = torch.tensor([1], device=device)  # </s> token id\n",
        "    src_list, tgt_list = [], []\n",
        "    for (_src, _tgt) in batch:\n",
        "        processed_src = torch.cat(\n",
        "            [\n",
        "                bs_id,\n",
        "                torch.tensor(\n",
        "                    src_vocab(src_pipeline(_src)),\n",
        "                    dtype=torch.int64,\n",
        "                    device=device,\n",
        "                ),\n",
        "                eos_id,\n",
        "            ],\n",
        "            0,\n",
        "        )\n",
        "        processed_tgt = torch.cat(\n",
        "            [\n",
        "                bs_id,\n",
        "                torch.tensor(\n",
        "                    tgt_vocab(tgt_pipeline(_tgt)),\n",
        "                    dtype=torch.int64,\n",
        "                    device=device,\n",
        "                ),\n",
        "                eos_id,\n",
        "            ],\n",
        "            0,\n",
        "        )\n",
        "        src_list.append(\n",
        "            # warning - overwrites values for negative values of padding - len\n",
        "            pad(\n",
        "                processed_src,\n",
        "                (\n",
        "                    0,\n",
        "                    max_padding - len(processed_src),\n",
        "                ),\n",
        "                value=pad_id,\n",
        "            )\n",
        "        )\n",
        "        tgt_list.append(\n",
        "            pad(\n",
        "                processed_tgt,\n",
        "                (0, max_padding - len(processed_tgt)),\n",
        "                value=pad_id,\n",
        "            )\n",
        "        )\n",
        "\n",
        "    src = torch.stack(src_list)\n",
        "    tgt = torch.stack(tgt_list)\n",
        "    return (src, tgt)"
      ],
      "metadata": {
        "id": "r7vRU4GAR9B3"
      },
      "execution_count": 35,
      "outputs": []
    },
    {
      "cell_type": "code",
      "source": [
        "def create_dataloaders(\n",
        "    device,\n",
        "    vocab_src,\n",
        "    vocab_tgt,\n",
        "    spacy_de,\n",
        "    spacy_en,\n",
        "    batch_size=12000,\n",
        "    max_padding=128,\n",
        "):\n",
        "    # def create_dataloaders(batch_size=12000):\n",
        "    def tokenize_de(text):\n",
        "        return tokenize(text, spacy_de)\n",
        "\n",
        "    def tokenize_en(text):\n",
        "        return tokenize(text, spacy_en)\n",
        "\n",
        "    def collate_fn(batch):\n",
        "        return collate_batch(\n",
        "            batch,\n",
        "            tokenize_de,\n",
        "            tokenize_en,\n",
        "            vocab_src,\n",
        "            vocab_tgt,\n",
        "            device,\n",
        "            max_padding=max_padding,\n",
        "            pad_id=vocab_src.get_stoi()[\"<blank>\"],\n",
        "        )\n",
        "\n",
        "    train_iter, valid_iter, test_iter = datasets.Multi30k(\n",
        "        language_pair=(\"de\", \"en\")\n",
        "    )\n",
        "\n",
        "    train_iter_map = to_map_style_dataset(train_iter) \n",
        "    valid_iter_map = to_map_style_dataset(valid_iter)\n",
        "\n",
        "    train_dataloader = DataLoader(\n",
        "        train_iter_map,\n",
        "        batch_size=batch_size,\n",
        "        shuffle=True,\n",
        "        collate_fn=collate_fn,\n",
        "    )\n",
        "    valid_dataloader = DataLoader(\n",
        "        valid_iter_map,\n",
        "        batch_size=batch_size,\n",
        "        shuffle=True,\n",
        "        collate_fn=collate_fn,\n",
        "    )\n",
        "    return train_dataloader, valid_dataloader"
      ],
      "metadata": {
        "id": "eGTfHTS9T5G9"
      },
      "execution_count": 36,
      "outputs": []
    },
    {
      "cell_type": "markdown",
      "source": [
        "## 3.3 Training model"
      ],
      "metadata": {
        "id": "S1uHGYVWay_2"
      }
    },
    {
      "cell_type": "code",
      "source": [
        "def train_model(\n",
        "    vocab_src,\n",
        "    vocab_tgt,\n",
        "    sapcy_de,\n",
        "    spacy_en,\n",
        "    config, \n",
        "):\n",
        "    device = torch.device(\"cuda\") if torch.cuda.is_available() else torch.device(\"cpu\")\n",
        "    pad_idx = vocab_tgt[\"<blank>\"]\n",
        "    d_model = config[\"d_model\"]\n",
        "    model = make_model(len(vocab_src), len(vocab_tgt), N=2)\n",
        "    model.to(device)\n",
        "\n",
        "    criterion = LabelSmoothing(\n",
        "        size=len(vocab_tgt), padding_idx=pad_idx, smoothing=0.1\n",
        "    )\n",
        "    criterion.to(device)\n",
        "    train_dataloader, valid_dataloader = create_dataloaders(\n",
        "        device,\n",
        "        vocab_src,\n",
        "        vocab_tgt,\n",
        "        spacy_de,\n",
        "        spacy_en,\n",
        "        batch_size=config[\"batch_size\"],\n",
        "        max_padding=config[\"max_padding\"],\n",
        "    )\n",
        "\n",
        "    optimizer = torch.optim.Adam(\n",
        "        model.parameters(), lr=config[\"base_lr\"], betas=(0.9, 0.98), eps=1e-9\n",
        "    )\n",
        "    lr_scheduler = LambdaLR(\n",
        "        optimizer=optimizer,\n",
        "        lr_lambda=lambda step: rate(\n",
        "            step, d_model, factor=1, warmup=config[\"warmup\"]\n",
        "        ),\n",
        "    )\n",
        "    train_state = TrainState()\n",
        "    \n",
        "    for epoch in range(config[\"num_epochs\"]):\n",
        "        print(\"=\"*20 + \"Epoch: %d\"%(epoch) + \"=\"*20)\n",
        "        model.train()\n",
        "        _, train_state = run_epoch(\n",
        "            (Batch(b[0], b[1], pad_idx) for b in train_dataloader), \n",
        "            model,\n",
        "            SimpleLossCompute(model.generator, criterion),\n",
        "            optimizer,\n",
        "            lr_scheduler,\n",
        "            mode=\"train\",\n",
        "            accum_iter=config[\"accum_iter\"],\n",
        "            train_state=train_state,\n",
        "\n",
        "        )\n",
        "        torch.cuda.empty_cache()\n",
        "\n",
        "        model.eval()\n",
        "        sloss, state = run_epoch(\n",
        "            (Batch(b[0], b[1], pad_idx) for b in valid_dataloader),\n",
        "            model,\n",
        "            SimpleLossCompute(model.generator, criterion),\n",
        "            DummyOptimizer,\n",
        "            DummyScheduler,\n",
        "            mode=\"eval\",\n",
        "        )\n",
        "        print(\"Eval Loss:\", sloss.item())\n",
        "        torch.cuda.empty_cache()\n",
        "\n",
        "    # Save model\n",
        "    file_path = \"%sfinal.pt\" % config[\"file_prefix\"]\n",
        "    torch.save(model.state_dict(), file_path)"
      ],
      "metadata": {
        "id": "Wt2hlrDaa544"
      },
      "execution_count": 51,
      "outputs": []
    },
    {
      "cell_type": "code",
      "source": [
        "def load_trained_model():\n",
        "    config = {\n",
        "        \"d_model\" : 256,\n",
        "        \"batch_size\": 128,\n",
        "        \"num_epochs\": 5,\n",
        "        \"accum_iter\": 10,\n",
        "        \"base_lr\": 1.0,\n",
        "        \"max_padding\": 72,\n",
        "        \"warmup\": 1,\n",
        "        \"file_prefix\": \"nmt_model_\",\n",
        "    }\n",
        "    model_path = \"nmt_model_final.pt\"\n",
        "    if not exists(model_path):\n",
        "        spacy_de, spacy_en = load_tokenizers()\n",
        "        train_model(vocab_src, vocab_tgt, spacy_de, spacy_en, config)\n",
        "\n",
        "    model = make_model(len(vocab_src), len(vocab_tgt), N=2)\n",
        "    model.load_state_dict(torch.load(\"nmt_model_final.pt\"))\n",
        "    return model\n",
        "\n",
        "\n",
        "if is_interactive_notebook():\n",
        "    model = load_trained_model()"
      ],
      "metadata": {
        "colab": {
          "base_uri": "https://localhost:8080/"
        },
        "id": "l5kkZai-a4GD",
        "outputId": "8ce0886e-f1f6-43bc-e2bb-39fc99cc9ec3"
      },
      "execution_count": 52,
      "outputs": [
        {
          "output_type": "stream",
          "name": "stdout",
          "text": [
            "====================Epoch: 0====================\n",
            "Epoch Step:      1 | Accumulation Step:   1 | Loss:   5.92| Tokens/Sec:  4043.6 | Learning Rate: 4.4e-02\n",
            "Epoch Step:     41 | Accumulation Step:   5 | Loss:  11.67| Tokens/Sec:  4454.9 | Learning Rate: 9.6e-03\n",
            "Epoch Step:     81 | Accumulation Step:   9 | Loss:   7.38| Tokens/Sec:  4469.4 | Learning Rate: 6.9e-03\n",
            "Epoch Step:    121 | Accumulation Step:  13 | Loss:   6.54| Tokens/Sec:  4478.5 | Learning Rate: 5.7e-03\n",
            "Epoch Step:    161 | Accumulation Step:  17 | Loss:   6.01| Tokens/Sec:  4497.4 | Learning Rate: 4.9e-03\n",
            "Epoch Step:    201 | Accumulation Step:  21 | Loss:   5.59| Tokens/Sec:  4525.6 | Learning Rate: 4.4e-03\n",
            "Eval Loss: 5.35256290435791\n",
            "====================Epoch: 1====================\n",
            "Epoch Step:      1 | Accumulation Step:   1 | Loss:   5.31| Tokens/Sec:  4747.4 | Learning Rate: 4.1e-03\n",
            "Epoch Step:     41 | Accumulation Step:   5 | Loss:   5.24| Tokens/Sec:  4597.9 | Learning Rate: 3.8e-03\n",
            "Epoch Step:     81 | Accumulation Step:   9 | Loss:   5.10| Tokens/Sec:  4560.9 | Learning Rate: 3.6e-03\n",
            "Epoch Step:    121 | Accumulation Step:  13 | Loss:   5.01| Tokens/Sec:  4548.5 | Learning Rate: 3.3e-03\n",
            "Epoch Step:    161 | Accumulation Step:  17 | Loss:   4.85| Tokens/Sec:  4551.9 | Learning Rate: 3.2e-03\n",
            "Epoch Step:    201 | Accumulation Step:  21 | Loss:   4.86| Tokens/Sec:  4571.6 | Learning Rate: 3.0e-03\n",
            "Eval Loss: 4.739923477172852\n",
            "====================Epoch: 2====================\n",
            "Epoch Step:      1 | Accumulation Step:   1 | Loss:   4.76| Tokens/Sec:  4642.1 | Learning Rate: 2.9e-03\n",
            "Epoch Step:     41 | Accumulation Step:   5 | Loss:   4.68| Tokens/Sec:  4566.4 | Learning Rate: 2.8e-03\n",
            "Epoch Step:     81 | Accumulation Step:   9 | Loss:   4.75| Tokens/Sec:  4563.4 | Learning Rate: 2.7e-03\n",
            "Epoch Step:    121 | Accumulation Step:  13 | Loss:   4.70| Tokens/Sec:  4554.9 | Learning Rate: 2.6e-03\n",
            "Epoch Step:    161 | Accumulation Step:  17 | Loss:   4.57| Tokens/Sec:  4555.5 | Learning Rate: 2.5e-03\n",
            "Epoch Step:    201 | Accumulation Step:  21 | Loss:   4.61| Tokens/Sec:  4567.3 | Learning Rate: 2.4e-03\n",
            "Eval Loss: 4.468225002288818\n",
            "====================Epoch: 3====================\n",
            "Epoch Step:      1 | Accumulation Step:   1 | Loss:   4.58| Tokens/Sec:  4614.2 | Learning Rate: 2.4e-03\n",
            "Epoch Step:     41 | Accumulation Step:   5 | Loss:   4.51| Tokens/Sec:  4591.1 | Learning Rate: 2.3e-03\n",
            "Epoch Step:     81 | Accumulation Step:   9 | Loss:   4.46| Tokens/Sec:  4532.7 | Learning Rate: 2.3e-03\n",
            "Epoch Step:    121 | Accumulation Step:  13 | Loss:   4.43| Tokens/Sec:  4542.1 | Learning Rate: 2.2e-03\n",
            "Epoch Step:    161 | Accumulation Step:  17 | Loss:   4.50| Tokens/Sec:  4567.6 | Learning Rate: 2.2e-03\n",
            "Epoch Step:    201 | Accumulation Step:  21 | Loss:   4.36| Tokens/Sec:  4539.4 | Learning Rate: 2.1e-03\n",
            "Eval Loss: 4.303195953369141\n",
            "====================Epoch: 4====================\n",
            "Epoch Step:      1 | Accumulation Step:   1 | Loss:   4.38| Tokens/Sec:  4377.1 | Learning Rate: 2.1e-03\n",
            "Epoch Step:     41 | Accumulation Step:   5 | Loss:   4.40| Tokens/Sec:  4566.6 | Learning Rate: 2.0e-03\n",
            "Epoch Step:     81 | Accumulation Step:   9 | Loss:   4.32| Tokens/Sec:  4534.1 | Learning Rate: 2.0e-03\n",
            "Epoch Step:    121 | Accumulation Step:  13 | Loss:   4.38| Tokens/Sec:  4584.7 | Learning Rate: 1.9e-03\n",
            "Epoch Step:    161 | Accumulation Step:  17 | Loss:   4.31| Tokens/Sec:  4568.6 | Learning Rate: 1.9e-03\n",
            "Epoch Step:    201 | Accumulation Step:  21 | Loss:   4.41| Tokens/Sec:  4555.9 | Learning Rate: 1.9e-03\n",
            "Eval Loss: 4.206992149353027\n"
          ]
        }
      ]
    }
  ]
}